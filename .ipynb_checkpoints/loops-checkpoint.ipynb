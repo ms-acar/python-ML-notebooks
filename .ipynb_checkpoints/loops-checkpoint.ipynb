{
 "cells": [
  {
   "cell_type": "code",
   "execution_count": 2,
   "id": "48070b55-bf5f-462a-bf0d-6c95fdd7e33d",
   "metadata": {},
   "outputs": [
    {
     "name": "stdout",
     "output_type": "stream",
     "text": [
      "1\n",
      "2\n",
      "3\n",
      "4\n",
      "5\n",
      "6\n",
      "7\n",
      "8\n",
      "9\n"
     ]
    }
   ],
   "source": [
    "myList = [1,2,3,4,5,6,7,8,9]\n",
    "for num in myList:\n",
    "    print(num)"
   ]
  },
  {
   "cell_type": "code",
   "execution_count": 5,
   "id": "e5c1d16a-5761-47c1-843b-067f14f3fce1",
   "metadata": {},
   "outputs": [
    {
     "name": "stdout",
     "output_type": "stream",
     "text": [
      "2\n",
      "4\n",
      "6\n",
      "8\n"
     ]
    }
   ],
   "source": [
    "myList = [1,2,3,4,5,6,7,8,9]\n",
    "for num in myList:\n",
    "    if num % 2 == 0:\n",
    "        print(num)"
   ]
  },
  {
   "cell_type": "code",
   "execution_count": 8,
   "id": "8c63156f-5316-40df-9efa-1b2a9810bd90",
   "metadata": {},
   "outputs": [
    {
     "name": "stdin",
     "output_type": "stream",
     "text": [
      "eleman sayısı giriniz:  5\n",
      "eleman giriniz:  6\n",
      "eleman giriniz:  8\n",
      "eleman giriniz:  3\n",
      "eleman giriniz:  2\n",
      "eleman giriniz:  8\n"
     ]
    },
    {
     "name": "stdout",
     "output_type": "stream",
     "text": [
      "oluşturulan liste:  ['6', '8', '3', '2', '8']\n"
     ]
    }
   ],
   "source": [
    "newList = list()\n",
    "n = int(input(\"eleman sayısı giriniz: \"))\n",
    "for i in range(n):\n",
    "    newList.append(input(\"eleman giriniz: \"))\n",
    "print(\"oluşturulan liste: \",newList)"
   ]
  },
  {
   "cell_type": "code",
   "execution_count": 11,
   "id": "3bf33674-0cbc-40f4-8073-37655559827d",
   "metadata": {},
   "outputs": [
    {
     "name": "stdout",
     "output_type": "stream",
     "text": [
      "a\n",
      "c\n",
      "e\n"
     ]
    }
   ],
   "source": [
    "# tuple unpacking:\n",
    "myList = [(\"a\",\"b\"),(\"c\",\"d\"),(\"e\",\"f\")]\n",
    "for (x,y) in myList:\n",
    "    print(x)"
   ]
  },
  {
   "cell_type": "code",
   "execution_count": 12,
   "id": "64b50d95-1f0b-420f-a894-c973693f8d19",
   "metadata": {},
   "outputs": [
    {
     "name": "stdout",
     "output_type": "stream",
     "text": [
      "a\n",
      "b\n",
      "c\n"
     ]
    }
   ],
   "source": [
    "myDict = {\"a\":100,\"b\":200,\"c\":300}\n",
    "for (key,value) in myDict.items():\n",
    "    print(key)"
   ]
  },
  {
   "cell_type": "code",
   "execution_count": 13,
   "id": "1fb1a77f-0325-4433-9b1f-e11c7eb89e98",
   "metadata": {},
   "outputs": [
    {
     "name": "stdout",
     "output_type": "stream",
     "text": [
      "100\n",
      "200\n",
      "300\n"
     ]
    }
   ],
   "source": [
    "myDict = {\"a\":100,\"b\":200,\"c\":300}\n",
    "for price in myDict.values():\n",
    "    print(price)"
   ]
  },
  {
   "cell_type": "code",
   "execution_count": null,
   "id": "cb2f1fa2-c3f8-46a0-9885-6e9c96b49966",
   "metadata": {},
   "outputs": [],
   "source": [
    "#continue - break - pass:"
   ]
  },
  {
   "cell_type": "code",
   "execution_count": 15,
   "id": "0364806f-e935-420e-a21c-3e55c16686da",
   "metadata": {},
   "outputs": [
    {
     "name": "stdout",
     "output_type": "stream",
     "text": [
      "10\n",
      "20\n",
      "30\n",
      "40\n",
      "50\n"
     ]
    }
   ],
   "source": [
    "newList = [10,20,30,40,50,60,70,80,90,100]\n",
    "for number in newList:\n",
    "    print(number)\n",
    "    if number == 50:\n",
    "        break"
   ]
  },
  {
   "cell_type": "code",
   "execution_count": 16,
   "id": "48821740-b03d-4256-86c7-fc7494d1fcb4",
   "metadata": {},
   "outputs": [
    {
     "name": "stdout",
     "output_type": "stream",
     "text": [
      "10\n",
      "20\n",
      "30\n",
      "40\n",
      "50\n",
      "60\n",
      "70\n",
      "80\n",
      "90\n",
      "100\n"
     ]
    }
   ],
   "source": [
    "newList = [10,20,30,40,50,60,70,80,90,100]\n",
    "for number in newList:\n",
    "    print(number)\n",
    "    if number == 50:\n",
    "        continue\n",
    "        print(\"sayı = 50\") #continue altındakini atlayarak devam eder"
   ]
  },
  {
   "cell_type": "code",
   "execution_count": 20,
   "id": "5c4e0d8b-68b0-470a-9f82-d62ff97ec603",
   "metadata": {},
   "outputs": [
    {
     "name": "stdout",
     "output_type": "stream",
     "text": [
      "10\n",
      "20\n",
      "30\n",
      "40\n",
      "60\n",
      "70\n",
      "80\n",
      "90\n",
      "100\n"
     ]
    }
   ],
   "source": [
    "newList = [10,20,30,40,50,60,70,80,90,100]\n",
    "for number in newList:\n",
    "    if number == 50:\n",
    "        continue #50 yi atla:\n",
    "    print(number)"
   ]
  },
  {
   "cell_type": "code",
   "execution_count": 1,
   "id": "b9f8bd0e-c0bc-4792-a9da-0711d3825153",
   "metadata": {},
   "outputs": [
    {
     "name": "stdout",
     "output_type": "stream",
     "text": [
      "0\n",
      "1\n",
      "2\n",
      "3\n",
      "4\n",
      "5\n",
      "6\n",
      "7\n",
      "8\n",
      "9\n"
     ]
    }
   ],
   "source": [
    "x = 0\n",
    "while x < 10:\n",
    "    print(x)\n",
    "    x = x + 1"
   ]
  },
  {
   "cell_type": "code",
   "execution_count": 2,
   "id": "41c4cd20-f692-4617-8910-8b02de6c96d0",
   "metadata": {},
   "outputs": [
    {
     "name": "stdout",
     "output_type": "stream",
     "text": [
      "my list = [10, 20, 30]\n"
     ]
    }
   ],
   "source": [
    "#formatted list:\n",
    "myList = [10,20,30]\n",
    "print(f\"my list = {myList}\")"
   ]
  },
  {
   "cell_type": "code",
   "execution_count": 3,
   "id": "6e5650fc-7325-41fb-837b-d8019b1a919b",
   "metadata": {},
   "outputs": [
    {
     "name": "stdin",
     "output_type": "stream",
     "text": [
      "isim giriniz : salih\n"
     ]
    },
    {
     "name": "stdout",
     "output_type": "stream",
     "text": [
      "isim = salih\n"
     ]
    }
   ],
   "source": [
    "name = input(\"isim giriniz :\")\n",
    "print(f\"isim = {name}\")"
   ]
  },
  {
   "cell_type": "code",
   "execution_count": 5,
   "id": "cfea6636-a266-4d97-946d-3c76c23d74b7",
   "metadata": {},
   "outputs": [
    {
     "name": "stdout",
     "output_type": "stream",
     "text": [
      "value = 0\n",
      "value = 1\n",
      "value = 2\n",
      "value = 3\n",
      "value = 4\n"
     ]
    }
   ],
   "source": [
    "value = 0\n",
    "while value < 5:\n",
    "    print(f\"value = {value}\")\n",
    "    value = value + 1"
   ]
  },
  {
   "cell_type": "code",
   "execution_count": 6,
   "id": "ad11efb3-a278-46b5-afae-cb681320c4ad",
   "metadata": {},
   "outputs": [
    {
     "data": {
      "text/plain": [
       "[3, 4, 5, 6, 7]"
      ]
     },
     "execution_count": 6,
     "metadata": {},
     "output_type": "execute_result"
    }
   ],
   "source": [
    "#range:\n",
    "list(range(3,8))"
   ]
  },
  {
   "cell_type": "code",
   "execution_count": 7,
   "id": "05dcb0ac-6e4e-476e-b46a-2e891c7315dc",
   "metadata": {},
   "outputs": [
    {
     "data": {
      "text/plain": [
       "[0, 2, 4, 6, 8]"
      ]
     },
     "execution_count": 7,
     "metadata": {},
     "output_type": "execute_result"
    }
   ],
   "source": [
    "list(range(0,10,2))"
   ]
  },
  {
   "cell_type": "code",
   "execution_count": 8,
   "id": "cce93873-a6cc-4fc0-a5b3-7df1d45452f6",
   "metadata": {},
   "outputs": [
    {
     "name": "stdout",
     "output_type": "stream",
     "text": [
      "10\n",
      "20\n",
      "30\n",
      "40\n",
      "50\n"
     ]
    }
   ],
   "source": [
    "newList = [10,20,30,40,50]\n",
    "for index in range(len(newList)):\n",
    "    print(newList[index])"
   ]
  },
  {
   "cell_type": "code",
   "execution_count": 10,
   "id": "8f9f23fc-bebb-4d63-a903-889250bc2d52",
   "metadata": {},
   "outputs": [
    {
     "name": "stdout",
     "output_type": "stream",
     "text": [
      "(0, 10)\n",
      "(1, 20)\n",
      "(2, 30)\n",
      "(3, 40)\n",
      "(4, 50)\n"
     ]
    }
   ],
   "source": [
    "newList = [10,20,30,40,50]\n",
    "for element in enumerate(newList):\n",
    "    print(element)"
   ]
  },
  {
   "cell_type": "code",
   "execution_count": 11,
   "id": "312017e7-d483-4eb5-be21-0ed4d71dea25",
   "metadata": {},
   "outputs": [
    {
     "name": "stdout",
     "output_type": "stream",
     "text": [
      "10\n",
      "20\n",
      "30\n",
      "40\n",
      "50\n"
     ]
    }
   ],
   "source": [
    "newList = [10,20,30,40,50]\n",
    "for (index,value) in enumerate(newList):\n",
    "    print(value)"
   ]
  },
  {
   "cell_type": "code",
   "execution_count": 16,
   "id": "fe6d10f0-6cc8-434c-8f57-2400f4dfc3e1",
   "metadata": {},
   "outputs": [
    {
     "data": {
      "text/plain": [
       "90"
      ]
     },
     "execution_count": 16,
     "metadata": {},
     "output_type": "execute_result"
    }
   ],
   "source": [
    "#random:\n",
    "from random import randint\n",
    "randint(0,100)"
   ]
  },
  {
   "cell_type": "code",
   "execution_count": 18,
   "id": "1b0fd7b9-e72e-4b3c-989a-2c1de99c3fe0",
   "metadata": {},
   "outputs": [
    {
     "data": {
      "text/plain": [
       "[20, 40, 50, 30, 10]"
      ]
     },
     "execution_count": 18,
     "metadata": {},
     "output_type": "execute_result"
    }
   ],
   "source": [
    "newList = [10,20,30,40,50]\n",
    "from random import shuffle\n",
    "shuffle(newList)\n",
    "newList"
   ]
  },
  {
   "cell_type": "code",
   "execution_count": 21,
   "id": "6ef115b7-44af-4baa-bbdd-33b829489144",
   "metadata": {},
   "outputs": [
    {
     "data": {
      "text/plain": [
       "10"
      ]
     },
     "execution_count": 21,
     "metadata": {},
     "output_type": "execute_result"
    }
   ],
   "source": [
    "newList = [10,20,30,40,50]\n",
    "from random import randint\n",
    "newList[randint(0,len(newList)-1)]"
   ]
  },
  {
   "cell_type": "code",
   "execution_count": 24,
   "id": "4681aa8e-9c25-4f8e-99a1-a0615cd32e1d",
   "metadata": {},
   "outputs": [
    {
     "data": {
      "text/plain": [
       "3"
      ]
     },
     "execution_count": 24,
     "metadata": {},
     "output_type": "execute_result"
    }
   ],
   "source": [
    "import random\n",
    "import math\n",
    "a = random.random() * 10\n",
    "math.floor(a)"
   ]
  },
  {
   "cell_type": "code",
   "execution_count": null,
   "id": "32d747ca-814d-4281-b9bd-7058dda0e270",
   "metadata": {},
   "outputs": [],
   "source": [
    "newList = [\"urun1\",\"urun2\",\"urun3\"]\n",
    "priceList = [150,180,130]\n",
    "dayList = [\"monday\",\"tuesday\",\"wednesday\"]\n",
    "zippedList = list(zip(newList,priceList,dayList))"
   ]
  }
 ],
 "metadata": {
  "kernelspec": {
   "display_name": "Python 3 (ipykernel)",
   "language": "python",
   "name": "python3"
  },
  "language_info": {
   "codemirror_mode": {
    "name": "ipython",
    "version": 3
   },
   "file_extension": ".py",
   "mimetype": "text/x-python",
   "name": "python",
   "nbconvert_exporter": "python",
   "pygments_lexer": "ipython3",
   "version": "3.13.5"
  }
 },
 "nbformat": 4,
 "nbformat_minor": 5
}
