{
 "cells": [
  {
   "cell_type": "code",
   "execution_count": 6,
   "id": "f0bbffbe-eb2f-43f4-a1b9-a4f4b406bd0c",
   "metadata": {},
   "outputs": [
    {
     "data": {
      "text/plain": [
       "{10, 20, 30, 40, 50, 70}"
      ]
     },
     "execution_count": 6,
     "metadata": {},
     "output_type": "execute_result"
    }
   ],
   "source": [
    "mySet1 = {10,20,30,40}\n",
    "mySet2 = {50,30,70,10}\n",
    "mySet1.union(mySet2)"
   ]
  },
  {
   "cell_type": "code",
   "execution_count": 7,
   "id": "ef721ac4-8cea-4fe7-ad7d-d0abdfe01af7",
   "metadata": {},
   "outputs": [
    {
     "data": {
      "text/plain": [
       "{10, 30}"
      ]
     },
     "execution_count": 7,
     "metadata": {},
     "output_type": "execute_result"
    }
   ],
   "source": [
    "mySet1.intersection(mySet2)"
   ]
  },
  {
   "cell_type": "code",
   "execution_count": 11,
   "id": "bb9e2135-67e7-4425-8144-c34dd0b87772",
   "metadata": {},
   "outputs": [
    {
     "data": {
      "text/plain": [
       "{10, 20, 25, 30, 40}"
      ]
     },
     "execution_count": 11,
     "metadata": {},
     "output_type": "execute_result"
    }
   ],
   "source": [
    "mySet1.add(25)\n",
    "mySet1"
   ]
  },
  {
   "cell_type": "code",
   "execution_count": 12,
   "id": "a4fb8b1e-4210-4a55-a3c8-6b1c40a2c204",
   "metadata": {},
   "outputs": [
    {
     "data": {
      "text/plain": [
       "4"
      ]
     },
     "execution_count": 12,
     "metadata": {},
     "output_type": "execute_result"
    }
   ],
   "source": [
    "# set içerisindeki elemanlar aynıysa 1 eleman sayılır\n",
    "newSet = {1,2,3,3,3,4}\n",
    "len(newSet)"
   ]
  },
  {
   "cell_type": "code",
   "execution_count": null,
   "id": "62922ea9-0ffe-4284-b900-26986a38019d",
   "metadata": {},
   "outputs": [],
   "source": [
    "#listelerde boş liste oluşturma:"
   ]
  },
  {
   "cell_type": "code",
   "execution_count": 14,
   "id": "f354f72d-898d-40b9-8149-a88337eca3d7",
   "metadata": {},
   "outputs": [
    {
     "data": {
      "text/plain": [
       "[10, 20, 30, 40, 50]"
      ]
     },
     "execution_count": 14,
     "metadata": {},
     "output_type": "execute_result"
    }
   ],
   "source": [
    "emptyList = [] #veya : emptyList = list()\n",
    "emptyList.append(10)\n",
    "emptyList.append(20)\n",
    "emptyList.append(30)\n",
    "emptyList.append(40)\n",
    "emptyList.append(50)\n",
    "emptyList"
   ]
  },
  {
   "cell_type": "code",
   "execution_count": null,
   "id": "ab615fba-3b60-436b-8f9d-adccafc1c59b",
   "metadata": {},
   "outputs": [],
   "source": [
    "#set ve dictionary yazımı aynı olduğundan boş set veya dict açarken öncelikle belirtilmelidir"
   ]
  },
  {
   "cell_type": "code",
   "execution_count": 19,
   "id": "73aad038-388c-4d42-b8ff-2f396582f621",
   "metadata": {},
   "outputs": [
    {
     "data": {
      "text/plain": [
       "{10, 20, 30, 40, 50}"
      ]
     },
     "execution_count": 19,
     "metadata": {},
     "output_type": "execute_result"
    }
   ],
   "source": [
    "#set için:\n",
    "emptySet = set()\n",
    "emptySet.add(10)\n",
    "emptySet.add(20)\n",
    "emptySet.add(30)\n",
    "emptySet.add(40)\n",
    "emptySet.add(50)\n",
    "emptySet"
   ]
  },
  {
   "cell_type": "code",
   "execution_count": 17,
   "id": "4cbc6b5a-5ded-4e24-b012-7d5f2e889bc2",
   "metadata": {},
   "outputs": [
    {
     "data": {
      "text/plain": [
       "{'a': 1, 'b': 2, 'c': 3}"
      ]
     },
     "execution_count": 17,
     "metadata": {},
     "output_type": "execute_result"
    }
   ],
   "source": [
    "#dictionary için:\n",
    "emptyDict = dict()\n",
    "emptyDict[\"a\"] = 1\n",
    "emptyDict[\"b\"] = 2\n",
    "emptyDict[\"c\"] = 3\n",
    "emptyDict"
   ]
  },
  {
   "cell_type": "code",
   "execution_count": null,
   "id": "068d1077-7038-4243-935d-2ebeab5ffa6e",
   "metadata": {},
   "outputs": [],
   "source": []
  }
 ],
 "metadata": {
  "kernelspec": {
   "display_name": "Python 3 (ipykernel)",
   "language": "python",
   "name": "python3"
  },
  "language_info": {
   "codemirror_mode": {
    "name": "ipython",
    "version": 3
   },
   "file_extension": ".py",
   "mimetype": "text/x-python",
   "name": "python",
   "nbconvert_exporter": "python",
   "pygments_lexer": "ipython3",
   "version": "3.13.5"
  }
 },
 "nbformat": 4,
 "nbformat_minor": 5
}
