{
 "cells": [
  {
   "cell_type": "code",
   "execution_count": 1,
   "id": "1310b585-4507-48d2-a786-27c67f06ac17",
   "metadata": {},
   "outputs": [
    {
     "ename": "TypeError",
     "evalue": "'str' object does not support item assignment",
     "output_type": "error",
     "traceback": [
      "\u001b[31m---------------------------------------------------------------------------\u001b[39m",
      "\u001b[31mTypeError\u001b[39m                                 Traceback (most recent call last)",
      "\u001b[36mCell\u001b[39m\u001b[36m \u001b[39m\u001b[32mIn[1]\u001b[39m\u001b[32m, line 2\u001b[39m\n\u001b[32m      1\u001b[39m myString = \u001b[33m\"\u001b[39m\u001b[33mhello world\u001b[39m\u001b[33m\"\u001b[39m\n\u001b[32m----> \u001b[39m\u001b[32m2\u001b[39m myString[\u001b[32m2\u001b[39m] = \u001b[33m\"\u001b[39m\u001b[33ma\u001b[39m\u001b[33m\"\u001b[39m\n",
      "\u001b[31mTypeError\u001b[39m: 'str' object does not support item assignment"
     ]
    }
   ],
   "source": [
    "myString = \"hello world\"\n",
    "myString[2] = \"a\""
   ]
  },
  {
   "cell_type": "code",
   "execution_count": 2,
   "id": "736178e4-2627-4e2b-a599-d521dc50fc04",
   "metadata": {},
   "outputs": [
    {
     "data": {
      "text/plain": [
       "list"
      ]
     },
     "execution_count": 2,
     "metadata": {},
     "output_type": "execute_result"
    }
   ],
   "source": [
    "myList = [1,2,3]\n",
    "type(myList)"
   ]
  },
  {
   "cell_type": "code",
   "execution_count": 3,
   "id": "f75b44fd-973c-478d-9366-6cdd389bd1c1",
   "metadata": {},
   "outputs": [
    {
     "name": "stdout",
     "output_type": "stream",
     "text": [
      "[1, 2, 3]\n"
     ]
    }
   ],
   "source": [
    "a=1\n",
    "b=2\n",
    "c=3\n",
    "mylist = [a,b,c]\n",
    "print(mylist)"
   ]
  },
  {
   "cell_type": "code",
   "execution_count": 4,
   "id": "b349f1fe-1012-4855-ad2e-2f9667356dc4",
   "metadata": {},
   "outputs": [
    {
     "name": "stdout",
     "output_type": "stream",
     "text": [
      "[4, 2, 3]\n"
     ]
    }
   ],
   "source": [
    "mylist[0] = 4\n",
    "print(mylist)"
   ]
  },
  {
   "cell_type": "code",
   "execution_count": 5,
   "id": "481841b9-5a19-4f6f-9706-7a39b4de3468",
   "metadata": {},
   "outputs": [
    {
     "name": "stdout",
     "output_type": "stream",
     "text": [
      "2\n"
     ]
    }
   ],
   "source": [
    "print(mylist[-2])"
   ]
  },
  {
   "cell_type": "code",
   "execution_count": 7,
   "id": "44d7da2c-0fb8-46f8-b0b4-144df4a351fd",
   "metadata": {},
   "outputs": [
    {
     "name": "stdout",
     "output_type": "stream",
     "text": [
      "[10, 20, 30, 40, 50, 60]\n"
     ]
    }
   ],
   "source": [
    "myList = [10,20,30,40,50]\n",
    "myList.append(60)\n",
    "print(myList)"
   ]
  },
  {
   "cell_type": "code",
   "execution_count": 8,
   "id": "9db6e2a0-563b-4905-ab7e-9d4f554033cd",
   "metadata": {},
   "outputs": [
    {
     "name": "stdout",
     "output_type": "stream",
     "text": [
      "[10, 20, 30, 72, 40, 50, 60]\n"
     ]
    }
   ],
   "source": [
    "myList.insert(3,72)\n",
    "print(myList)"
   ]
  },
  {
   "cell_type": "code",
   "execution_count": 9,
   "id": "3bd09102-d82b-4c6e-87d6-6fc1d30e6117",
   "metadata": {},
   "outputs": [
    {
     "name": "stdout",
     "output_type": "stream",
     "text": [
      "[60, 50, 40, 72, 30, 20, 10]\n"
     ]
    }
   ],
   "source": [
    "myList.reverse()\n",
    "print(myList)"
   ]
  },
  {
   "cell_type": "code",
   "execution_count": 10,
   "id": "b302976e-dbce-48b1-a149-6a22e61916fb",
   "metadata": {},
   "outputs": [
    {
     "name": "stdin",
     "output_type": "stream",
     "text": [
      "a sayısı: 23\n"
     ]
    }
   ],
   "source": [
    "a = input(\"a sayısı:\")"
   ]
  },
  {
   "cell_type": "code",
   "execution_count": 11,
   "id": "7a981654-ca00-4fa7-a794-887593f0e75c",
   "metadata": {},
   "outputs": [
    {
     "name": "stdin",
     "output_type": "stream",
     "text": [
      "diziye eklenecek sayı: 34\n"
     ]
    },
    {
     "name": "stdout",
     "output_type": "stream",
     "text": [
      "None\n"
     ]
    }
   ],
   "source": [
    "a = input(\"diziye eklenecek sayı:\")\n",
    "print(myList.append(a))"
   ]
  },
  {
   "cell_type": "code",
   "execution_count": 12,
   "id": "f1dfc49a-4bb9-4bae-90f8-4b0cbaf313b4",
   "metadata": {},
   "outputs": [
    {
     "name": "stdin",
     "output_type": "stream",
     "text": [
      "diziye eklenecek sayı: 34\n"
     ]
    },
    {
     "name": "stdout",
     "output_type": "stream",
     "text": [
      "[60, 50, 40, 72, 30, 20, 10, '34', '34']\n"
     ]
    }
   ],
   "source": [
    "a = input(\"diziye eklenecek sayı:\")\n",
    "myList.append(a)\n",
    "print(myList)"
   ]
  },
  {
   "cell_type": "code",
   "execution_count": 13,
   "id": "d29ba09e-2878-48e2-bd30-08d390873e71",
   "metadata": {},
   "outputs": [
    {
     "data": {
      "text/plain": [
       "int"
      ]
     },
     "execution_count": 13,
     "metadata": {},
     "output_type": "execute_result"
    }
   ],
   "source": [
    "type(myList[3])"
   ]
  },
  {
   "cell_type": "code",
   "execution_count": 14,
   "id": "bef1f6db-728f-4210-98d6-e3502d7e8780",
   "metadata": {},
   "outputs": [
    {
     "data": {
      "text/plain": [
       "str"
      ]
     },
     "execution_count": 14,
     "metadata": {},
     "output_type": "execute_result"
    }
   ],
   "source": [
    "type(myList[7])"
   ]
  },
  {
   "cell_type": "code",
   "execution_count": null,
   "id": "2f8b70ae-7918-4b1e-8ab1-e2b48b856392",
   "metadata": {},
   "outputs": [],
   "source": [
    "type(int(myList[7]))"
   ]
  }
 ],
 "metadata": {
  "kernelspec": {
   "display_name": "Python 3 (ipykernel)",
   "language": "python",
   "name": "python3"
  },
  "language_info": {
   "codemirror_mode": {
    "name": "ipython",
    "version": 3
   },
   "file_extension": ".py",
   "mimetype": "text/x-python",
   "name": "python",
   "nbconvert_exporter": "python",
   "pygments_lexer": "ipython3",
   "version": "3.13.5"
  }
 },
 "nbformat": 4,
 "nbformat_minor": 5
}
