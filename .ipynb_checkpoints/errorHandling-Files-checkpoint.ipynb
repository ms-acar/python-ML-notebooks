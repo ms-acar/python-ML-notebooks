{
 "cells": [
  {
   "cell_type": "code",
   "execution_count": 9,
   "id": "87696f8b-d7d3-4da4-a64a-b600e04d26e8",
   "metadata": {},
   "outputs": [
    {
     "name": "stdin",
     "output_type": "stream",
     "text": [
      "yaşınızı giriniz. ali\n"
     ]
    },
    {
     "name": "stdout",
     "output_type": "stream",
     "text": [
      "Lütfen yaşınızı giriniz!\n"
     ]
    }
   ],
   "source": [
    "try:\n",
    "    yas = int(input(\"yaşınızı giriniz.\"))\n",
    "    print(f\"girilen yaş: {yas}\")\n",
    "except:\n",
    "    print(\"Lütfen yaşınızı giriniz!\")"
   ]
  },
  {
   "cell_type": "code",
   "execution_count": 12,
   "id": "95d62a97-6374-4f43-90c7-51f0350c98bc",
   "metadata": {},
   "outputs": [
    {
     "name": "stdin",
     "output_type": "stream",
     "text": [
      "yaşınızı giriniz. ahmet\n"
     ]
    },
    {
     "name": "stdout",
     "output_type": "stream",
     "text": [
      "Lütfen yaşınızı giriniz!\n",
      "finally used\n"
     ]
    },
    {
     "name": "stdin",
     "output_type": "stream",
     "text": [
      "yaşınızı giriniz. 34\n"
     ]
    },
    {
     "name": "stdout",
     "output_type": "stream",
     "text": [
      "girilen yaş: 34\n",
      "finally used\n"
     ]
    }
   ],
   "source": [
    "while True:\n",
    "    try:\n",
    "        yas = int(input(\"yaşınızı giriniz.\"))\n",
    "        print(F\"girilen yaş: {yas}\")\n",
    "        break\n",
    "    except ValueError:\n",
    "        print(\"Lütfen yaşınızı giriniz!\")\n",
    "    else:\n",
    "        print(\"else used\")\n",
    "    finally:\n",
    "        print(\"finally used\")"
   ]
  },
  {
   "cell_type": "code",
   "execution_count": 13,
   "id": "2e30eda3-6f11-45c1-9a45-0e27b4944e61",
   "metadata": {},
   "outputs": [
    {
     "name": "stdout",
     "output_type": "stream",
     "text": [
      "Writing newFile.txt\n"
     ]
    }
   ],
   "source": [
    "%%writefile newFile.txt\n",
    "test 1\n",
    "test 2\n",
    "test 3"
   ]
  },
  {
   "cell_type": "code",
   "execution_count": 15,
   "id": "d241b763-bc2b-498c-a94d-fb174ce11afe",
   "metadata": {},
   "outputs": [],
   "source": [
    "openFile = open(\"newFile.txt\")"
   ]
  },
  {
   "cell_type": "code",
   "execution_count": 16,
   "id": "7ff1937e-5810-4a86-bace-546caa0db19c",
   "metadata": {},
   "outputs": [
    {
     "data": {
      "text/plain": [
       "'test 1\\ntest 2\\ntest 3\\n'"
      ]
     },
     "execution_count": 16,
     "metadata": {},
     "output_type": "execute_result"
    }
   ],
   "source": [
    "openFile.read()"
   ]
  },
  {
   "cell_type": "code",
   "execution_count": 19,
   "id": "04ebe726-1e8e-4d4f-9616-b2c998104497",
   "metadata": {},
   "outputs": [
    {
     "data": {
      "text/plain": [
       "_io.TextIOWrapper"
      ]
     },
     "execution_count": 19,
     "metadata": {},
     "output_type": "execute_result"
    }
   ],
   "source": [
    "type(openFile)"
   ]
  },
  {
   "cell_type": "code",
   "execution_count": 22,
   "id": "c50d27c9-9dde-4d00-bbd5-ad4b2eadf477",
   "metadata": {},
   "outputs": [
    {
     "data": {
      "text/plain": [
       "''"
      ]
     },
     "execution_count": 22,
     "metadata": {},
     "output_type": "execute_result"
    }
   ],
   "source": [
    "openFile.read() #ikinci kez okuduğunda boşluğu görür."
   ]
  },
  {
   "cell_type": "code",
   "execution_count": 26,
   "id": "d021b196-9f80-4baa-826f-a64a4694fb0b",
   "metadata": {},
   "outputs": [
    {
     "data": {
      "text/plain": [
       "0"
      ]
     },
     "execution_count": 26,
     "metadata": {},
     "output_type": "execute_result"
    }
   ],
   "source": [
    "openFile.seek(0) #dosya başına gelir"
   ]
  },
  {
   "cell_type": "code",
   "execution_count": 27,
   "id": "f3c12da0-3d9d-4145-8c8d-b96f0a1efc5f",
   "metadata": {},
   "outputs": [
    {
     "data": {
      "text/plain": [
       "'test 1\\ntest 2\\ntest 3\\n'"
      ]
     },
     "execution_count": 27,
     "metadata": {},
     "output_type": "execute_result"
    }
   ],
   "source": [
    "openFile.read()"
   ]
  },
  {
   "cell_type": "raw",
   "id": "0b81c5a5-8d83-470c-9db6-9f0db201de2d",
   "metadata": {},
   "source": [
    "BUNUN İÇİN WITH KULLANILIR."
   ]
  },
  {
   "cell_type": "code",
   "execution_count": 41,
   "id": "3a845695-860d-47fd-8e60-bfefd84d89ce",
   "metadata": {},
   "outputs": [],
   "source": [
    "with open(\"newFile.txt\",mode=\"w\") as openFile2:\n",
    "    openFile2.write(\"test 4\")"
   ]
  },
  {
   "cell_type": "code",
   "execution_count": 42,
   "id": "7545ae92-09bc-4458-bcbb-49928ac453fa",
   "metadata": {},
   "outputs": [],
   "source": [
    "with open(\"newFile.txt\",mode=\"a\") as appendFile2:\n",
    "    appendFile2.write(\"test 5\")"
   ]
  },
  {
   "cell_type": "code",
   "execution_count": 43,
   "id": "c64c48ba-5915-4c45-8e2d-116622cf672a",
   "metadata": {},
   "outputs": [],
   "source": [
    "with open(\"newFile.txt\",mode=\"r\") as readFile2:\n",
    "    content = readFile2.read()"
   ]
  },
  {
   "cell_type": "code",
   "execution_count": 44,
   "id": "c894984f-0f1d-4b87-98a4-61e43dd83bcc",
   "metadata": {},
   "outputs": [
    {
     "data": {
      "text/plain": [
       "'test 4test 5'"
      ]
     },
     "execution_count": 44,
     "metadata": {},
     "output_type": "execute_result"
    }
   ],
   "source": [
    "content"
   ]
  },
  {
   "cell_type": "raw",
   "id": "58e6475c-9187-40a2-83b2-e931d8551514",
   "metadata": {},
   "source": [
    "W - WRITE, R - READ, A - APPEND"
   ]
  }
 ],
 "metadata": {
  "kernelspec": {
   "display_name": "Python 3 (ipykernel)",
   "language": "python",
   "name": "python3"
  },
  "language_info": {
   "codemirror_mode": {
    "name": "ipython",
    "version": 3
   },
   "file_extension": ".py",
   "mimetype": "text/x-python",
   "name": "python",
   "nbconvert_exporter": "python",
   "pygments_lexer": "ipython3",
   "version": "3.13.5"
  }
 },
 "nbformat": 4,
 "nbformat_minor": 5
}
