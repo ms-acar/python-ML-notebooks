{
 "cells": [
  {
   "cell_type": "code",
   "execution_count": 4,
   "id": "58cbd023-e272-4471-918a-9c495bcc2d82",
   "metadata": {},
   "outputs": [
    {
     "name": "stdin",
     "output_type": "stream",
     "text": [
      "isim giriniz: ahmet\n"
     ]
    },
    {
     "name": "stdout",
     "output_type": "stream",
     "text": [
      "isim: ahmet\n"
     ]
    }
   ],
   "source": [
    "name = input(\"isim giriniz:\")\n",
    "def printName(name):\n",
    "    print(f\"isim: {name}\")\n",
    "\n",
    "printName(name)"
   ]
  },
  {
   "cell_type": "code",
   "execution_count": 3,
   "id": "7ad33cbf-81be-42e3-8cc8-dd7d84680b00",
   "metadata": {},
   "outputs": [
    {
     "name": "stdin",
     "output_type": "stream",
     "text": [
      "ilk sayıyı giriniz: 34\n",
      "ikinci sayıyı giriniz: 54\n"
     ]
    },
    {
     "name": "stdout",
     "output_type": "stream",
     "text": [
      "sonuç =  88\n"
     ]
    }
   ],
   "source": [
    "sayi1 = input(\"ilk sayıyı giriniz:\")\n",
    "sayi2 = input(\"ikinci sayıyı giriniz:\")\n",
    "def sumNum (sayi1,sayi2):\n",
    "    total = int(sayi1) + int(sayi2)\n",
    "    print(\"sonuç = \",total)\n",
    "\n",
    "sumNum(sayi1,sayi2)"
   ]
  },
  {
   "cell_type": "code",
   "execution_count": 6,
   "id": "a3678a90-8f62-47cb-8ff1-07725724c9cd",
   "metadata": {},
   "outputs": [
    {
     "data": {
      "text/plain": [
       "27"
      ]
     },
     "execution_count": 6,
     "metadata": {},
     "output_type": "execute_result"
    }
   ],
   "source": [
    "def returnSum(sayi1, sayi2, sayi3):\n",
    "    return sayi1 + sayi2 + sayi3\n",
    "returnSum(10, 9, 8)"
   ]
  },
  {
   "cell_type": "code",
   "execution_count": 7,
   "id": "2a23ee13-f5d7-48e2-8cf4-36003a04be70",
   "metadata": {},
   "outputs": [
    {
     "data": {
      "text/plain": [
       "91"
      ]
     },
     "execution_count": 7,
     "metadata": {},
     "output_type": "execute_result"
    }
   ],
   "source": [
    "#args, kwargs => arguments, key word arguments\n",
    "def argsSum (*args):\n",
    "    return sum(args)\n",
    "argsSum(1,2,3,4,5,6,7,8,9,10,11,12,13)"
   ]
  },
  {
   "cell_type": "code",
   "execution_count": 11,
   "id": "2004a5d8-623c-4602-8467-ac8f07c58957",
   "metadata": {},
   "outputs": [
    {
     "name": "stdout",
     "output_type": "stream",
     "text": [
      "{'urun1': 100, 'urun2': 200, 'urun3': 300}\n"
     ]
    }
   ],
   "source": [
    "def kwarkgsEx (**kwargs):\n",
    "    print(kwargs)\n",
    "kwarkgsEx(urun1 = 100,urun2 = 200,urun3 = 300)"
   ]
  },
  {
   "cell_type": "code",
   "execution_count": 13,
   "id": "9e5e5540-e967-49a2-bcd9-eaacf0d7d708",
   "metadata": {},
   "outputs": [
    {
     "name": "stdout",
     "output_type": "stream",
     "text": [
      "ürün 1 mevcut\n"
     ]
    }
   ],
   "source": [
    "def kwarkgsEx (**kwargs):\n",
    "    if \"urun1\" in kwargs:\n",
    "        print(\"ürün 1 mevcut\")\n",
    "    else:\n",
    "        print(\"ürün 1 mevcut değildir\")\n",
    "kwarkgsEx(urun1 = 100,urun2 = 200,urun3 = 300)"
   ]
  },
  {
   "cell_type": "code",
   "execution_count": 1,
   "id": "b05177c3-443a-41c7-9091-b185e7026009",
   "metadata": {},
   "outputs": [
    {
     "data": {
      "text/plain": [
       "[1.0, 2.0, 3.0, 4.0, 5.0]"
      ]
     },
     "execution_count": 1,
     "metadata": {},
     "output_type": "execute_result"
    }
   ],
   "source": [
    "newList = [2,4,6,8,10]\n",
    "resultList = list()\n",
    "def divideNumber(number):\n",
    "    return number / 2\n",
    "for num in newList:\n",
    "    resultList.append(divideNumber(num))\n",
    "resultList"
   ]
  },
  {
   "cell_type": "code",
   "execution_count": 2,
   "id": "ef176e6d-2a7c-44de-ab1a-14473693904e",
   "metadata": {},
   "outputs": [
    {
     "data": {
      "text/plain": [
       "[True, True, False]"
      ]
     },
     "execution_count": 2,
     "metadata": {},
     "output_type": "execute_result"
    }
   ],
   "source": [
    "#map fonksiyonu:\n",
    "def controlString (string):\n",
    "    return \"hello\" in string\n",
    "newStrings = [\"hello world\",\"hello\",\"world\"]\n",
    "list(map(controlString,newStrings))"
   ]
  },
  {
   "cell_type": "code",
   "execution_count": 3,
   "id": "f7fcebda-c8c0-438a-bfc3-467b9e1ac6cd",
   "metadata": {},
   "outputs": [
    {
     "data": {
      "text/plain": [
       "['hello world', 'hello']"
      ]
     },
     "execution_count": 3,
     "metadata": {},
     "output_type": "execute_result"
    }
   ],
   "source": [
    "#filter fonksiyonu:\n",
    "def controlString (string):\n",
    "    return \"hello\" in string\n",
    "newStrings = [\"hello world\",\"hello\",\"world\"]\n",
    "list(filter(controlString,newStrings))"
   ]
  },
  {
   "cell_type": "code",
   "execution_count": 4,
   "id": "007c8394-15b2-4dbd-a582-e15e5d053d93",
   "metadata": {},
   "outputs": [
    {
     "data": {
      "text/plain": [
       "21"
      ]
     },
     "execution_count": 4,
     "metadata": {},
     "output_type": "execute_result"
    }
   ],
   "source": [
    "#lambda fonksiyonu\n",
    "multiplyLambda = lambda num : num * 3\n",
    "multiplyLambda(7)"
   ]
  },
  {
   "cell_type": "code",
   "execution_count": 5,
   "id": "495c40fd-276d-406b-a080-c7bc08fef693",
   "metadata": {},
   "outputs": [
    {
     "name": "stdin",
     "output_type": "stream",
     "text": [
      "sayı giriniz:  2\n"
     ]
    },
    {
     "ename": "TypeError",
     "evalue": "unsupported operand type(s) for /: 'int' and 'str'",
     "output_type": "error",
     "traceback": [
      "\u001b[31m---------------------------------------------------------------------------\u001b[39m",
      "\u001b[31mTypeError\u001b[39m                                 Traceback (most recent call last)",
      "\u001b[36mCell\u001b[39m\u001b[36m \u001b[39m\u001b[32mIn[5]\u001b[39m\u001b[32m, line 2\u001b[39m\n\u001b[32m      1\u001b[39m numList = [\u001b[32m1\u001b[39m,\u001b[32m2\u001b[39m,\u001b[32m3\u001b[39m,\u001b[32m4\u001b[39m,\u001b[32m5\u001b[39m,\u001b[32m6\u001b[39m]\n\u001b[32m----> \u001b[39m\u001b[32m2\u001b[39m \u001b[38;5;28mlist\u001b[39m(\u001b[38;5;28mmap\u001b[39m(\u001b[38;5;28;01mlambda\u001b[39;00m num:num/\u001b[38;5;28minput\u001b[39m(\u001b[33m\"\u001b[39m\u001b[33msayı giriniz: \u001b[39m\u001b[33m\"\u001b[39m),numList))\n",
      "\u001b[36mCell\u001b[39m\u001b[36m \u001b[39m\u001b[32mIn[5]\u001b[39m\u001b[32m, line 2\u001b[39m, in \u001b[36m<lambda>\u001b[39m\u001b[34m(num)\u001b[39m\n\u001b[32m      1\u001b[39m numList = [\u001b[32m1\u001b[39m,\u001b[32m2\u001b[39m,\u001b[32m3\u001b[39m,\u001b[32m4\u001b[39m,\u001b[32m5\u001b[39m,\u001b[32m6\u001b[39m]\n\u001b[32m----> \u001b[39m\u001b[32m2\u001b[39m \u001b[38;5;28mlist\u001b[39m(\u001b[38;5;28mmap\u001b[39m(\u001b[38;5;28;01mlambda\u001b[39;00m num:num/\u001b[38;5;28minput\u001b[39m(\u001b[33m\"\u001b[39m\u001b[33msayı giriniz: \u001b[39m\u001b[33m\"\u001b[39m),numList))\n",
      "\u001b[31mTypeError\u001b[39m: unsupported operand type(s) for /: 'int' and 'str'"
     ]
    }
   ],
   "source": [
    "numList = [1,2,3,4,5,6]\n",
    "a = input(\"sayı giriniz: \")\n",
    "list(map(lambda num:num/a,numList))"
   ]
  },
  {
   "cell_type": "code",
   "execution_count": null,
   "id": "13b462d8-e8c8-48c1-b2cd-da28bbea64a1",
   "metadata": {},
   "outputs": [],
   "source": []
  }
 ],
 "metadata": {
  "kernelspec": {
   "display_name": "Python 3 (ipykernel)",
   "language": "python",
   "name": "python3"
  },
  "language_info": {
   "codemirror_mode": {
    "name": "ipython",
    "version": 3
   },
   "file_extension": ".py",
   "mimetype": "text/x-python",
   "name": "python",
   "nbconvert_exporter": "python",
   "pygments_lexer": "ipython3",
   "version": "3.13.5"
  }
 },
 "nbformat": 4,
 "nbformat_minor": 5
}
