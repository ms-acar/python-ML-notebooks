{
 "cells": [
  {
   "cell_type": "code",
   "execution_count": 4,
   "id": "58cbd023-e272-4471-918a-9c495bcc2d82",
   "metadata": {},
   "outputs": [
    {
     "name": "stdin",
     "output_type": "stream",
     "text": [
      "isim giriniz: ahmet\n"
     ]
    },
    {
     "name": "stdout",
     "output_type": "stream",
     "text": [
      "isim: ahmet\n"
     ]
    }
   ],
   "source": [
    "name = input(\"isim giriniz:\")\n",
    "def printName(name):\n",
    "    print(f\"isim: {name}\")\n",
    "\n",
    "printName(name)"
   ]
  },
  {
   "cell_type": "code",
   "execution_count": 3,
   "id": "7ad33cbf-81be-42e3-8cc8-dd7d84680b00",
   "metadata": {},
   "outputs": [
    {
     "name": "stdin",
     "output_type": "stream",
     "text": [
      "ilk sayıyı giriniz: 34\n",
      "ikinci sayıyı giriniz: 54\n"
     ]
    },
    {
     "name": "stdout",
     "output_type": "stream",
     "text": [
      "sonuç =  88\n"
     ]
    }
   ],
   "source": [
    "sayi1 = input(\"ilk sayıyı giriniz:\")\n",
    "sayi2 = input(\"ikinci sayıyı giriniz:\")\n",
    "def sumNum (sayi1,sayi2):\n",
    "    total = int(sayi1) + int(sayi2)\n",
    "    print(\"sonuç = \",total)\n",
    "\n",
    "sumNum(sayi1,sayi2)"
   ]
  },
  {
   "cell_type": "code",
   "execution_count": 6,
   "id": "a3678a90-8f62-47cb-8ff1-07725724c9cd",
   "metadata": {},
   "outputs": [
    {
     "data": {
      "text/plain": [
       "27"
      ]
     },
     "execution_count": 6,
     "metadata": {},
     "output_type": "execute_result"
    }
   ],
   "source": [
    "def returnSum(sayi1, sayi2, sayi3):\n",
    "    return sayi1 + sayi2 + sayi3\n",
    "returnSum(10, 9, 8)"
   ]
  },
  {
   "cell_type": "code",
   "execution_count": 7,
   "id": "2a23ee13-f5d7-48e2-8cf4-36003a04be70",
   "metadata": {},
   "outputs": [
    {
     "data": {
      "text/plain": [
       "91"
      ]
     },
     "execution_count": 7,
     "metadata": {},
     "output_type": "execute_result"
    }
   ],
   "source": [
    "#args, kwargs => arguments, key word arguments\n",
    "def argsSum (*args):\n",
    "    return sum(args)\n",
    "argsSum(1,2,3,4,5,6,7,8,9,10,11,12,13)"
   ]
  },
  {
   "cell_type": "code",
   "execution_count": 11,
   "id": "2004a5d8-623c-4602-8467-ac8f07c58957",
   "metadata": {},
   "outputs": [
    {
     "name": "stdout",
     "output_type": "stream",
     "text": [
      "{'urun1': 100, 'urun2': 200, 'urun3': 300}\n"
     ]
    }
   ],
   "source": [
    "def kwarkgsEx (**kwargs):\n",
    "    print(kwargs)\n",
    "kwarkgsEx(urun1 = 100,urun2 = 200,urun3 = 300)"
   ]
  },
  {
   "cell_type": "code",
   "execution_count": 13,
   "id": "9e5e5540-e967-49a2-bcd9-eaacf0d7d708",
   "metadata": {},
   "outputs": [
    {
     "name": "stdout",
     "output_type": "stream",
     "text": [
      "ürün 1 mevcut\n"
     ]
    }
   ],
   "source": [
    "def kwarkgsEx (**kwargs):\n",
    "    if \"urun1\" in kwargs:\n",
    "        print(\"ürün 1 mevcut\")\n",
    "    else:\n",
    "        print(\"ürün 1 mevcut değildir\")\n",
    "kwarkgsEx(urun1 = 100,urun2 = 200,urun3 = 300)"
   ]
  },
  {
   "cell_type": "code",
   "execution_count": 1,
   "id": "b05177c3-443a-41c7-9091-b185e7026009",
   "metadata": {},
   "outputs": [
    {
     "data": {
      "text/plain": [
       "[1.0, 2.0, 3.0, 4.0, 5.0]"
      ]
     },
     "execution_count": 1,
     "metadata": {},
     "output_type": "execute_result"
    }
   ],
   "source": [
    "newList = [2,4,6,8,10]\n",
    "resultList = list()\n",
    "def divideNumber(number):\n",
    "    return number / 2\n",
    "for num in newList:\n",
    "    resultList.append(divideNumber(num))\n",
    "resultList"
   ]
  },
  {
   "cell_type": "code",
   "execution_count": 2,
   "id": "ef176e6d-2a7c-44de-ab1a-14473693904e",
   "metadata": {},
   "outputs": [
    {
     "data": {
      "text/plain": [
       "[True, True, False]"
      ]
     },
     "execution_count": 2,
     "metadata": {},
     "output_type": "execute_result"
    }
   ],
   "source": [
    "#map fonksiyonu:\n",
    "def controlString (string):\n",
    "    return \"hello\" in string\n",
    "newStrings = [\"hello world\",\"hello\",\"world\"]\n",
    "list(map(controlString,newStrings))"
   ]
  },
  {
   "cell_type": "code",
   "execution_count": 1,
   "id": "f7fcebda-c8c0-438a-bfc3-467b9e1ac6cd",
   "metadata": {},
   "outputs": [
    {
     "data": {
      "text/plain": [
       "['hello world', 'hello']"
      ]
     },
     "execution_count": 1,
     "metadata": {},
     "output_type": "execute_result"
    }
   ],
   "source": [
    "#filter fonksiyonu:\n",
    "def controlString (string):\n",
    "    return \"hello\" in string\n",
    "newStrings = [\"hello world\",\"hello\",\"world\"]\n",
    "list(filter(controlString,newStrings))"
   ]
  },
  {
   "cell_type": "code",
   "execution_count": 2,
   "id": "007c8394-15b2-4dbd-a582-e15e5d053d93",
   "metadata": {},
   "outputs": [
    {
     "data": {
      "text/plain": [
       "21"
      ]
     },
     "execution_count": 2,
     "metadata": {},
     "output_type": "execute_result"
    }
   ],
   "source": [
    "#lambda fonksiyonu\n",
    "multiplyLambda = lambda num : num * 3\n",
    "multiplyLambda(7)"
   ]
  },
  {
   "cell_type": "code",
   "execution_count": 3,
   "id": "495c40fd-276d-406b-a080-c7bc08fef693",
   "metadata": {},
   "outputs": [
    {
     "data": {
      "text/plain": [
       "[0.5, 1.0, 1.5, 2.0, 2.5, 3.0]"
      ]
     },
     "execution_count": 3,
     "metadata": {},
     "output_type": "execute_result"
    }
   ],
   "source": [
    "numList = [1,2,3,4,5,6]\n",
    "list(map(lambda num:num/2,numList))"
   ]
  }
 ],
 "metadata": {
  "kernelspec": {
   "display_name": "Python 3 (ipykernel)",
   "language": "python",
   "name": "python3"
  },
  "language_info": {
   "codemirror_mode": {
    "name": "ipython",
    "version": 3
   },
   "file_extension": ".py",
   "mimetype": "text/x-python",
   "name": "python",
   "nbconvert_exporter": "python",
   "pygments_lexer": "ipython3",
   "version": "3.13.5"
  }
 },
 "nbformat": 4,
 "nbformat_minor": 5
}
