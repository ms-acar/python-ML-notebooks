{
 "cells": [
  {
   "cell_type": "code",
   "execution_count": 5,
   "id": "aa6c8a11-ba34-4936-82b2-202b46a481ed",
   "metadata": {},
   "outputs": [
    {
     "data": {
      "text/plain": [
       "'salih'"
      ]
     },
     "execution_count": 5,
     "metadata": {},
     "output_type": "execute_result"
    }
   ],
   "source": [
    "class Person():\n",
    "\n",
    "    #initializer method\n",
    "    def __init__(self,name,age,gender):\n",
    "        self.name = name\n",
    "        self.age = age\n",
    "        self.gender = gender\n",
    "\n",
    "    def control(self):\n",
    "        print(\"control self\")\n",
    "\n",
    "newPerson = Person(\"salih\",20,\"male\")\n",
    "newPerson.name"
   ]
  },
  {
   "cell_type": "code",
   "execution_count": 6,
   "id": "9d2f4da4-0433-433a-a75a-b8dc3594bad7",
   "metadata": {},
   "outputs": [
    {
     "name": "stdout",
     "output_type": "stream",
     "text": [
      "control self\n"
     ]
    }
   ],
   "source": [
    "newPerson.control()"
   ]
  },
  {
   "cell_type": "code",
   "execution_count": 7,
   "id": "ce390e2f-c084-4dbd-ba1d-6aa007a7adef",
   "metadata": {},
   "outputs": [],
   "source": [
    "class Product():\n",
    "    count = 10\n",
    "\n",
    "    def __init__(self, price = 5):\n",
    "        self.price = price\n",
    "        self.productPrice = price * self.count\n",
    "        print(\"initilaizer working\")\n",
    "\n",
    "    def productPrice(self):\n",
    "        return self.price * self.count #veya Product.count"
   ]
  },
  {
   "cell_type": "code",
   "execution_count": 8,
   "id": "f72c8f5f-39a6-45f0-9c88-f5f68589b823",
   "metadata": {},
   "outputs": [
    {
     "name": "stdout",
     "output_type": "stream",
     "text": [
      "initilaizer working\n"
     ]
    },
    {
     "data": {
      "text/plain": [
       "4"
      ]
     },
     "execution_count": 8,
     "metadata": {},
     "output_type": "execute_result"
    }
   ],
   "source": [
    "newProduct = Product(4)\n",
    "newProduct.price"
   ]
  },
  {
   "cell_type": "code",
   "execution_count": 9,
   "id": "64492afc-20c9-466b-ae9f-993a2be5f856",
   "metadata": {},
   "outputs": [
    {
     "data": {
      "text/plain": [
       "40"
      ]
     },
     "execution_count": 9,
     "metadata": {},
     "output_type": "execute_result"
    }
   ],
   "source": [
    "newProduct.productPrice"
   ]
  },
  {
   "cell_type": "raw",
   "id": "48ee8c39-1c9c-489e-8d2a-6ad9b4b9b3a8",
   "metadata": {},
   "source": [
    "INHERITANCE : Halihazırda var olan ve üzerine özzelikler eklenip yeni bir class oluşturulmak istendiğinde kalıtım özelliği kullanılabilir."
   ]
  },
  {
   "cell_type": "code",
   "execution_count": 10,
   "id": "1ecf8d92-26a6-48bf-a4f5-bd0a293411af",
   "metadata": {},
   "outputs": [],
   "source": [
    "class Person():\n",
    "\n",
    "    def __init__(self,name):\n",
    "        self.name = name\n",
    "        print(\"name class\")\n",
    "\n",
    "    def test1(self):\n",
    "        print(\"test1\")\n",
    "\n",
    "    def test2(self):\n",
    "        print(\"test2\")"
   ]
  },
  {
   "cell_type": "code",
   "execution_count": 22,
   "id": "24bc239c-58e6-4495-9a12-0e92ebe77936",
   "metadata": {},
   "outputs": [
    {
     "name": "stdout",
     "output_type": "stream",
     "text": [
      "name class\n"
     ]
    }
   ],
   "source": [
    "newPerson = Person(\"ali\")"
   ]
  },
  {
   "cell_type": "code",
   "execution_count": 23,
   "id": "85c0f64c-4034-459e-9cab-8a4868c958cd",
   "metadata": {},
   "outputs": [
    {
     "data": {
      "text/plain": [
       "'ali'"
      ]
     },
     "execution_count": 23,
     "metadata": {},
     "output_type": "execute_result"
    }
   ],
   "source": [
    "newPerson.name"
   ]
  },
  {
   "cell_type": "code",
   "execution_count": 18,
   "id": "a14c2510-089d-4336-a8eb-7862564ae327",
   "metadata": {},
   "outputs": [],
   "source": [
    "class detailedPersonInfo(Person):\n",
    "\n",
    "    def __init__(self,name):\n",
    "        Person.__init__(self,name)\n",
    "        print(\"Detailed person information here\")\n",
    "\n",
    "    def test1(self):\n",
    "        print(\"test1 override\")"
   ]
  },
  {
   "cell_type": "code",
   "execution_count": 19,
   "id": "39a58bc6-6ff5-40b0-8552-5c6b376ff8b2",
   "metadata": {},
   "outputs": [
    {
     "name": "stdout",
     "output_type": "stream",
     "text": [
      "name class\n",
      "Detailed person information here\n"
     ]
    }
   ],
   "source": [
    "newPerson2 = detailedPersonInfo(\"ahmet\")"
   ]
  },
  {
   "cell_type": "code",
   "execution_count": 20,
   "id": "92d54174-9863-4de2-9ccb-5f9ab6b88b9f",
   "metadata": {},
   "outputs": [
    {
     "name": "stdout",
     "output_type": "stream",
     "text": [
      "test1 override\n"
     ]
    }
   ],
   "source": [
    "newPerson2.test1()"
   ]
  },
  {
   "cell_type": "code",
   "execution_count": 21,
   "id": "83a3f1b1-5a79-4748-9533-b27fb2f3e3c1",
   "metadata": {},
   "outputs": [
    {
     "name": "stdout",
     "output_type": "stream",
     "text": [
      "test2\n"
     ]
    }
   ],
   "source": [
    "newPerson2.test2()"
   ]
  },
  {
   "cell_type": "code",
   "execution_count": 24,
   "id": "62410134-1148-4b6a-8131-951eb9cdab09",
   "metadata": {},
   "outputs": [
    {
     "name": "stdout",
     "output_type": "stream",
     "text": [
      "test1\n"
     ]
    }
   ],
   "source": [
    "newPerson.test1()"
   ]
  },
  {
   "cell_type": "raw",
   "id": "13b86b9c-6bd1-4e37-b3be-4215061f7cd7",
   "metadata": {},
   "source": [
    "POLYMORPHISM: Aynı isimlendirme altında farklı işlemler yapma."
   ]
  },
  {
   "cell_type": "code",
   "execution_count": 27,
   "id": "85a6d73b-6efa-468d-93ea-a7b544c5f57b",
   "metadata": {},
   "outputs": [],
   "source": [
    "class Banana():\n",
    "\n",
    "    def __init__ (self,name):\n",
    "        self.name = name\n",
    "\n",
    "    def info(self):\n",
    "        return f\"100 calories {self.name}\"\n",
    "\n",
    "class Apple():\n",
    "\n",
    "    def __init__ (self,name):\n",
    "        self.name = name\n",
    "\n",
    "    def info(self):\n",
    "        return f\"150 calories {self.name}\""
   ]
  },
  {
   "cell_type": "code",
   "execution_count": 28,
   "id": "e2c30e85-52d7-4be6-b5cc-9fd284e376e4",
   "metadata": {},
   "outputs": [],
   "source": [
    "banana = Banana(\"banana\")\n",
    "apple = Apple(\"apple\")"
   ]
  },
  {
   "cell_type": "code",
   "execution_count": 29,
   "id": "9e7a5407-a35b-47fe-b743-2d0ce3220d3b",
   "metadata": {},
   "outputs": [
    {
     "data": {
      "text/plain": [
       "'150 calories apple'"
      ]
     },
     "execution_count": 29,
     "metadata": {},
     "output_type": "execute_result"
    }
   ],
   "source": [
    "banana.info()\n",
    "apple.info()"
   ]
  },
  {
   "cell_type": "code",
   "execution_count": 30,
   "id": "544aa763-0d86-4e8a-b6f0-b879e7b9affa",
   "metadata": {},
   "outputs": [
    {
     "name": "stdout",
     "output_type": "stream",
     "text": [
      "150 calories apple\n",
      "100 calories banana\n"
     ]
    }
   ],
   "source": [
    "fruitList = [apple,banana]\n",
    "for fruit in fruitList:\n",
    "    print(fruit.info())"
   ]
  },
  {
   "cell_type": "raw",
   "id": "52a5e12e-cee2-42c7-a51e-c7b5911d529b",
   "metadata": {},
   "source": [
    "ENCAPSULATION: Yazılan kodun başkaları tarafından kolayca düzenlenebilmesini veya erişilmesini engellemeyi sağlayan yapılar oluşturma."
   ]
  },
  {
   "cell_type": "code",
   "execution_count": 46,
   "id": "b9cd8984-e620-4e2b-bf00-3e57473818a0",
   "metadata": {},
   "outputs": [],
   "source": [
    "#değişime sadece class içerisinden erişebilme:\n",
    "class Phone():\n",
    "    def __init__(self,name,price):\n",
    "        self.name = name\n",
    "        self.__price = price #dışarıdan değiştirilmeye çalışıldığında olmaz\n",
    "\n",
    "    def info(self):\n",
    "        print(f\"{self.name} price is: {self.__price}\")\n",
    "\n",
    "    def changePrice(self,price):\n",
    "        self.__price = price #fiyat değişimi için ayrı bir metot kullanılabilir"
   ]
  },
  {
   "cell_type": "code",
   "execution_count": 47,
   "id": "24ab74fa-f597-4d38-9ad0-a9b406cb82a6",
   "metadata": {},
   "outputs": [],
   "source": [
    "iphone = Phone(\"iphone 15\",50000)"
   ]
  },
  {
   "cell_type": "code",
   "execution_count": 48,
   "id": "613570ac-85cf-4f11-b4c0-5aed81b3fcb0",
   "metadata": {},
   "outputs": [
    {
     "name": "stdout",
     "output_type": "stream",
     "text": [
      "iphone 15 price is: 50000\n"
     ]
    }
   ],
   "source": [
    "iphone.info()"
   ]
  },
  {
   "cell_type": "code",
   "execution_count": 49,
   "id": "2231aebc-380a-4dd0-b652-9ddf7e3345c3",
   "metadata": {},
   "outputs": [],
   "source": [
    "iphone.price = 40000"
   ]
  },
  {
   "cell_type": "code",
   "execution_count": 50,
   "id": "aa30a124-cf0c-4b28-9e07-fb0f3daa9d80",
   "metadata": {},
   "outputs": [
    {
     "name": "stdout",
     "output_type": "stream",
     "text": [
      "iphone 15 price is: 50000\n"
     ]
    }
   ],
   "source": [
    "iphone.info()"
   ]
  },
  {
   "cell_type": "code",
   "execution_count": 51,
   "id": "f59f5e39-a8d9-4f2e-9971-f7f29bf620b1",
   "metadata": {},
   "outputs": [
    {
     "name": "stdout",
     "output_type": "stream",
     "text": [
      "iphone 15 price is: 30000\n"
     ]
    }
   ],
   "source": [
    "iphone.changePrice(30000)\n",
    "iphone.info()"
   ]
  }
 ],
 "metadata": {
  "kernelspec": {
   "display_name": "Python 3 (ipykernel)",
   "language": "python",
   "name": "python3"
  },
  "language_info": {
   "codemirror_mode": {
    "name": "ipython",
    "version": 3
   },
   "file_extension": ".py",
   "mimetype": "text/x-python",
   "name": "python",
   "nbconvert_exporter": "python",
   "pygments_lexer": "ipython3",
   "version": "3.13.5"
  }
 },
 "nbformat": 4,
 "nbformat_minor": 5
}
