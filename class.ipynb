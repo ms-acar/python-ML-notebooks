{
 "cells": [
  {
   "cell_type": "code",
   "execution_count": 5,
   "id": "aa6c8a11-ba34-4936-82b2-202b46a481ed",
   "metadata": {},
   "outputs": [
    {
     "data": {
      "text/plain": [
       "'salih'"
      ]
     },
     "execution_count": 5,
     "metadata": {},
     "output_type": "execute_result"
    }
   ],
   "source": [
    "class Person():\n",
    "\n",
    "    #initializer method\n",
    "    def __init__(self,name,age,gender):\n",
    "        self.name = name\n",
    "        self.age = age\n",
    "        self.gender = gender\n",
    "\n",
    "    def control(self):\n",
    "        print(\"control self\")\n",
    "\n",
    "newPerson = Person(\"salih\",20,\"male\")\n",
    "newPerson.name"
   ]
  },
  {
   "cell_type": "code",
   "execution_count": 6,
   "id": "9d2f4da4-0433-433a-a75a-b8dc3594bad7",
   "metadata": {},
   "outputs": [
    {
     "name": "stdout",
     "output_type": "stream",
     "text": [
      "control self\n"
     ]
    }
   ],
   "source": [
    "newPerson.control()"
   ]
  },
  {
   "cell_type": "code",
   "execution_count": 7,
   "id": "ce390e2f-c084-4dbd-ba1d-6aa007a7adef",
   "metadata": {},
   "outputs": [],
   "source": [
    "class Product():\n",
    "    count = 10\n",
    "\n",
    "    def __init__(self, price = 5):\n",
    "        self.price = price\n",
    "        self.productPrice = price * self.count\n",
    "        print(\"initilaizer working\")\n",
    "\n",
    "    def productPrice(self):\n",
    "        return self.price * self.count #veya Product.count"
   ]
  },
  {
   "cell_type": "code",
   "execution_count": 8,
   "id": "f72c8f5f-39a6-45f0-9c88-f5f68589b823",
   "metadata": {},
   "outputs": [
    {
     "name": "stdout",
     "output_type": "stream",
     "text": [
      "initilaizer working\n"
     ]
    },
    {
     "data": {
      "text/plain": [
       "4"
      ]
     },
     "execution_count": 8,
     "metadata": {},
     "output_type": "execute_result"
    }
   ],
   "source": [
    "newProduct = Product(4)\n",
    "newProduct.price"
   ]
  },
  {
   "cell_type": "code",
   "execution_count": 9,
   "id": "64492afc-20c9-466b-ae9f-993a2be5f856",
   "metadata": {},
   "outputs": [
    {
     "data": {
      "text/plain": [
       "40"
      ]
     },
     "execution_count": 9,
     "metadata": {},
     "output_type": "execute_result"
    }
   ],
   "source": [
    "newProduct.productPrice"
   ]
  },
  {
   "cell_type": "raw",
   "id": "48ee8c39-1c9c-489e-8d2a-6ad9b4b9b3a8",
   "metadata": {},
   "source": [
    "INHERITANCE : Halihazırda var olan ve üzerine özzelikler eklenip yeni bir class oluşturulmak istendiğinde kalıtım özelliği kullanılabilir."
   ]
  },
  {
   "cell_type": "code",
   "execution_count": 10,
   "id": "1ecf8d92-26a6-48bf-a4f5-bd0a293411af",
   "metadata": {},
   "outputs": [],
   "source": [
    "class Person():\n",
    "\n",
    "    def __init__(self,name):\n",
    "        self.name = name\n",
    "        print(\"name class\")\n",
    "\n",
    "    def test1(self):\n",
    "        print(\"test1\")\n",
    "\n",
    "    def test2(self):\n",
    "        print(\"test2\")"
   ]
  },
  {
   "cell_type": "code",
   "execution_count": 22,
   "id": "24bc239c-58e6-4495-9a12-0e92ebe77936",
   "metadata": {},
   "outputs": [
    {
     "name": "stdout",
     "output_type": "stream",
     "text": [
      "name class\n"
     ]
    }
   ],
   "source": [
    "newPerson = Person(\"ali\")"
   ]
  },
  {
   "cell_type": "code",
   "execution_count": 23,
   "id": "85c0f64c-4034-459e-9cab-8a4868c958cd",
   "metadata": {},
   "outputs": [
    {
     "data": {
      "text/plain": [
       "'ali'"
      ]
     },
     "execution_count": 23,
     "metadata": {},
     "output_type": "execute_result"
    }
   ],
   "source": [
    "newPerson.name"
   ]
  },
  {
   "cell_type": "code",
   "execution_count": 18,
   "id": "a14c2510-089d-4336-a8eb-7862564ae327",
   "metadata": {},
   "outputs": [],
   "source": [
    "class detailedPersonInfo(Person):\n",
    "\n",
    "    def __init__(self,name):\n",
    "        Person.__init__(self,name)\n",
    "        print(\"Detailed person information here\")\n",
    "\n",
    "    def test1(self):\n",
    "        print(\"test1 override\")"
   ]
  },
  {
   "cell_type": "code",
   "execution_count": 19,
   "id": "39a58bc6-6ff5-40b0-8552-5c6b376ff8b2",
   "metadata": {},
   "outputs": [
    {
     "name": "stdout",
     "output_type": "stream",
     "text": [
      "name class\n",
      "Detailed person information here\n"
     ]
    }
   ],
   "source": [
    "newPerson2 = detailedPersonInfo(\"ahmet\")"
   ]
  },
  {
   "cell_type": "code",
   "execution_count": 20,
   "id": "92d54174-9863-4de2-9ccb-5f9ab6b88b9f",
   "metadata": {},
   "outputs": [
    {
     "name": "stdout",
     "output_type": "stream",
     "text": [
      "test1 override\n"
     ]
    }
   ],
   "source": [
    "newPerson2.test1()"
   ]
  },
  {
   "cell_type": "code",
   "execution_count": 21,
   "id": "83a3f1b1-5a79-4748-9533-b27fb2f3e3c1",
   "metadata": {},
   "outputs": [
    {
     "name": "stdout",
     "output_type": "stream",
     "text": [
      "test2\n"
     ]
    }
   ],
   "source": [
    "newPerson2.test2()"
   ]
  },
  {
   "cell_type": "code",
   "execution_count": 24,
   "id": "62410134-1148-4b6a-8131-951eb9cdab09",
   "metadata": {},
   "outputs": [
    {
     "name": "stdout",
     "output_type": "stream",
     "text": [
      "test1\n"
     ]
    }
   ],
   "source": [
    "newPerson.test1()"
   ]
  },
  {
   "cell_type": "raw",
   "id": "13b86b9c-6bd1-4e37-b3be-4215061f7cd7",
   "metadata": {},
   "source": [
    "POLYMORPHISM: Aynı isimlendirme altında farklı işlemler yapma."
   ]
  },
  {
   "cell_type": "code",
   "execution_count": 27,
   "id": "85a6d73b-6efa-468d-93ea-a7b544c5f57b",
   "metadata": {},
   "outputs": [],
   "source": [
    "class Banana():\n",
    "\n",
    "    def __init__ (self,name):\n",
    "        self.name = name\n",
    "\n",
    "    def info(self):\n",
    "        return f\"100 calories {self.name}\"\n",
    "\n",
    "class Apple():\n",
    "\n",
    "    def __init__ (self,name):\n",
    "        self.name = name\n",
    "\n",
    "    def info(self):\n",
    "        return f\"150 calories {self.name}\""
   ]
  },
  {
   "cell_type": "code",
   "execution_count": 28,
   "id": "e2c30e85-52d7-4be6-b5cc-9fd284e376e4",
   "metadata": {},
   "outputs": [],
   "source": [
    "banana = Banana(\"banana\")\n",
    "apple = Apple(\"apple\")"
   ]
  },
  {
   "cell_type": "code",
   "execution_count": 29,
   "id": "9e7a5407-a35b-47fe-b743-2d0ce3220d3b",
   "metadata": {},
   "outputs": [
    {
     "data": {
      "text/plain": [
       "'150 calories apple'"
      ]
     },
     "execution_count": 29,
     "metadata": {},
     "output_type": "execute_result"
    }
   ],
   "source": [
    "banana.info()\n",
    "apple.info()"
   ]
  },
  {
   "cell_type": "code",
   "execution_count": 30,
   "id": "544aa763-0d86-4e8a-b6f0-b879e7b9affa",
   "metadata": {},
   "outputs": [
    {
     "name": "stdout",
     "output_type": "stream",
     "text": [
      "150 calories apple\n",
      "100 calories banana\n"
     ]
    }
   ],
   "source": [
    "fruitList = [apple,banana]\n",
    "for fruit in fruitList:\n",
    "    print(fruit.info())"
   ]
  },
  {
   "cell_type": "raw",
   "id": "52a5e12e-cee2-42c7-a51e-c7b5911d529b",
   "metadata": {},
   "source": [
    "ENCAPSULATION: Yazılan kodun başkaları tarafından kolayca düzenlenebilmesini veya erişilmesini engellemeyi sağlayan yapılar oluşturma."
   ]
  },
  {
   "cell_type": "code",
   "execution_count": 46,
   "id": "b9cd8984-e620-4e2b-bf00-3e57473818a0",
   "metadata": {},
   "outputs": [],
   "source": [
    "#değişime sadece class içerisinden erişebilme:\n",
    "class Phone():\n",
    "    def __init__(self,name,price):\n",
    "        self.name = name\n",
    "        self.__price = price #dışarıdan değiştirilmeye çalışıldığında olmaz\n",
    "\n",
    "    def info(self):\n",
    "        print(f\"{self.name} price is: {self.__price}\")\n",
    "\n",
    "    def changePrice(self,price):\n",
    "        self.__price = price #fiyat değişimi için ayrı bir metot kullanılabilir"
   ]
  },
  {
   "cell_type": "code",
   "execution_count": 47,
   "id": "24ab74fa-f597-4d38-9ad0-a9b406cb82a6",
   "metadata": {},
   "outputs": [],
   "source": [
    "iphone = Phone(\"iphone 15\",50000)"
   ]
  },
  {
   "cell_type": "code",
   "execution_count": 48,
   "id": "613570ac-85cf-4f11-b4c0-5aed81b3fcb0",
   "metadata": {},
   "outputs": [
    {
     "name": "stdout",
     "output_type": "stream",
     "text": [
      "iphone 15 price is: 50000\n"
     ]
    }
   ],
   "source": [
    "iphone.info()"
   ]
  },
  {
   "cell_type": "code",
   "execution_count": 49,
   "id": "2231aebc-380a-4dd0-b652-9ddf7e3345c3",
   "metadata": {},
   "outputs": [],
   "source": [
    "iphone.price = 40000"
   ]
  },
  {
   "cell_type": "code",
   "execution_count": 50,
   "id": "aa30a124-cf0c-4b28-9e07-fb0f3daa9d80",
   "metadata": {},
   "outputs": [
    {
     "name": "stdout",
     "output_type": "stream",
     "text": [
      "iphone 15 price is: 50000\n"
     ]
    }
   ],
   "source": [
    "iphone.info()"
   ]
  },
  {
   "cell_type": "code",
   "execution_count": 51,
   "id": "f59f5e39-a8d9-4f2e-9971-f7f29bf620b1",
   "metadata": {},
   "outputs": [
    {
     "name": "stdout",
     "output_type": "stream",
     "text": [
      "iphone 15 price is: 30000\n"
     ]
    }
   ],
   "source": [
    "iphone.changePrice(30000)\n",
    "iphone.info()"
   ]
  },
  {
   "cell_type": "raw",
   "id": "d3e23bad-e823-4541-a4cc-3e26dd90c52e",
   "metadata": {},
   "source": [
    "ABSTRACTION: Gereksiz detaylar gizlenir.\n",
    "\n",
    "Kullanıcıya sadece gerekli fonksiyonlar gösterilir.\n",
    "\n",
    "Kod okunabilirliği ve yeniden kullanılabilirliği artar."
   ]
  },
  {
   "cell_type": "code",
   "execution_count": 1,
   "id": "c0e9fd8e-8ea2-497b-af61-7f7a9062c6f5",
   "metadata": {},
   "outputs": [],
   "source": [
    "from abc import ABC, abstractmethod"
   ]
  },
  {
   "cell_type": "code",
   "execution_count": 2,
   "id": "ff2ce18f-931f-4d79-bbf9-dedeeaf426ff",
   "metadata": {},
   "outputs": [],
   "source": [
    "class Car(ABC):\n",
    "\n",
    "    @abstractmethod\n",
    "    def maxSpeed (self):\n",
    "        pass\n",
    "\n",
    "class Tesla(Car):\n",
    "\n",
    "    def maxSpeed(self):\n",
    "        print(\"200km/h\")"
   ]
  },
  {
   "cell_type": "code",
   "execution_count": 3,
   "id": "eacc8fdf-b973-41cf-83f5-c7216da8e191",
   "metadata": {},
   "outputs": [],
   "source": [
    "newTesla = Tesla()"
   ]
  },
  {
   "cell_type": "code",
   "execution_count": 4,
   "id": "a3a21243-f185-4955-a8d1-6137c163293b",
   "metadata": {},
   "outputs": [
    {
     "name": "stdout",
     "output_type": "stream",
     "text": [
      "200km/h\n"
     ]
    }
   ],
   "source": [
    "newTesla.maxSpeed()"
   ]
  },
  {
   "cell_type": "code",
   "execution_count": 5,
   "id": "c9d53663-39f6-4d93-9947-9f2bdcb1ad52",
   "metadata": {},
   "outputs": [],
   "source": [
    "class Mercedes(Car):\n",
    "\n",
    "    def maxSpeed(self):\n",
    "        print(\"250km/h\")"
   ]
  },
  {
   "cell_type": "code",
   "execution_count": 6,
   "id": "d96b5358-4f6d-41d9-83bd-f9ae13efc6e5",
   "metadata": {},
   "outputs": [
    {
     "name": "stdout",
     "output_type": "stream",
     "text": [
      "250km/h\n"
     ]
    }
   ],
   "source": [
    "newMercedes = Mercedes()\n",
    "newMercedes.maxSpeed()"
   ]
  },
  {
   "cell_type": "raw",
   "id": "55173941-0b08-458f-a0ae-eeb72262f27c",
   "metadata": {},
   "source": [
    "SPECIAL METHODS"
   ]
  },
  {
   "cell_type": "code",
   "execution_count": 7,
   "id": "4f87872e-8009-4bfc-ace5-a3fc88ced536",
   "metadata": {},
   "outputs": [],
   "source": [
    "class Fruit():\n",
    "\n",
    "    def __init__(self,name,calories):\n",
    "        self.name = name\n",
    "        self.calories = calories\n",
    "\n",
    "    def __str__(self):\n",
    "        return f\"{self.name}: {self.calories} calories\""
   ]
  },
  {
   "cell_type": "code",
   "execution_count": 8,
   "id": "49aa5bff-33be-4fef-a82d-a0a495736997",
   "metadata": {},
   "outputs": [],
   "source": [
    "myFruit = Fruit(\"banana\",150)"
   ]
  },
  {
   "cell_type": "code",
   "execution_count": 9,
   "id": "96d1aec9-8482-401e-8922-eac141ca442a",
   "metadata": {},
   "outputs": [
    {
     "data": {
      "text/plain": [
       "'banana'"
      ]
     },
     "execution_count": 9,
     "metadata": {},
     "output_type": "execute_result"
    }
   ],
   "source": [
    "myFruit.name"
   ]
  },
  {
   "cell_type": "code",
   "execution_count": 10,
   "id": "4eb79478-0d87-44ce-970a-283f74c2d307",
   "metadata": {},
   "outputs": [
    {
     "name": "stdout",
     "output_type": "stream",
     "text": [
      "banana: 150 calories\n"
     ]
    }
   ],
   "source": [
    "print(myFruit)"
   ]
  },
  {
   "cell_type": "code",
   "execution_count": null,
   "id": "57c18ca7-b599-4d40-917b-4c066333bfaf",
   "metadata": {},
   "outputs": [],
   "source": []
  }
 ],
 "metadata": {
  "kernelspec": {
   "display_name": "Python 3 (ipykernel)",
   "language": "python",
   "name": "python3"
  },
  "language_info": {
   "codemirror_mode": {
    "name": "ipython",
    "version": 3
   },
   "file_extension": ".py",
   "mimetype": "text/x-python",
   "name": "python",
   "nbconvert_exporter": "python",
   "pygments_lexer": "ipython3",
   "version": "3.13.5"
  }
 },
 "nbformat": 4,
 "nbformat_minor": 5
}
