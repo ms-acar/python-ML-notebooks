{
 "cells": [
  {
   "cell_type": "code",
   "execution_count": 1,
   "id": "29bf1a66-10bb-41be-84b0-cffea48fa36f",
   "metadata": {},
   "outputs": [
    {
     "data": {
      "text/plain": [
       "15"
      ]
     },
     "execution_count": 1,
     "metadata": {},
     "output_type": "execute_result"
    }
   ],
   "source": [
    "3*5"
   ]
  },
  {
   "cell_type": "code",
   "execution_count": 2,
   "id": "f3a01729-239d-4715-b8c4-f6b67545941e",
   "metadata": {},
   "outputs": [
    {
     "ename": "SyntaxError",
     "evalue": "invalid syntax (30137710.py, line 1)",
     "output_type": "error",
     "traceback": [
      "  \u001b[36mCell\u001b[39m\u001b[36m \u001b[39m\u001b[32mIn[2]\u001b[39m\u001b[32m, line 1\u001b[39m\n\u001b[31m    \u001b[39m\u001b[31mint a = 5, b=7\u001b[39m\n        ^\n\u001b[31mSyntaxError\u001b[39m\u001b[31m:\u001b[39m invalid syntax\n"
     ]
    }
   ],
   "source": [
    "int a = 5\n",
    "int b = 6"
   ]
  },
  {
   "cell_type": "code",
   "execution_count": 3,
   "id": "82208186-e3d0-4e47-b30f-68d8c702a4e4",
   "metadata": {},
   "outputs": [
    {
     "ename": "NameError",
     "evalue": "name 'a' is not defined",
     "output_type": "error",
     "traceback": [
      "\u001b[31m---------------------------------------------------------------------------\u001b[39m",
      "\u001b[31mNameError\u001b[39m                                 Traceback (most recent call last)",
      "\u001b[36mCell\u001b[39m\u001b[36m \u001b[39m\u001b[32mIn[3]\u001b[39m\u001b[32m, line 1\u001b[39m\n\u001b[32m----> \u001b[39m\u001b[32m1\u001b[39m a * b\n",
      "\u001b[31mNameError\u001b[39m: name 'a' is not defined"
     ]
    }
   ],
   "source": [
    "a * b"
   ]
  },
  {
   "cell_type": "code",
   "execution_count": 4,
   "id": "c4fa7963-3b11-4de2-a4c0-90c673c9a65c",
   "metadata": {},
   "outputs": [],
   "source": [
    "a = 5"
   ]
  },
  {
   "cell_type": "code",
   "execution_count": 5,
   "id": "164266b4-d77c-4b17-add7-cb366ad648d7",
   "metadata": {},
   "outputs": [
    {
     "data": {
      "text/plain": [
       "5"
      ]
     },
     "execution_count": 5,
     "metadata": {},
     "output_type": "execute_result"
    }
   ],
   "source": [
    "a"
   ]
  },
  {
   "cell_type": "code",
   "execution_count": 6,
   "id": "a0c02233-5a4c-4e5a-bb76-bc6d3c1a01cc",
   "metadata": {},
   "outputs": [
    {
     "data": {
      "text/plain": [
       "int"
      ]
     },
     "execution_count": 6,
     "metadata": {},
     "output_type": "execute_result"
    }
   ],
   "source": [
    "type(a)"
   ]
  },
  {
   "cell_type": "code",
   "execution_count": 7,
   "id": "c2c51b4a-4e9e-41e0-9f5e-17789f142334",
   "metadata": {},
   "outputs": [
    {
     "ename": "NameError",
     "evalue": "name 'ali' is not defined",
     "output_type": "error",
     "traceback": [
      "\u001b[31m---------------------------------------------------------------------------\u001b[39m",
      "\u001b[31mNameError\u001b[39m                                 Traceback (most recent call last)",
      "\u001b[36mCell\u001b[39m\u001b[36m \u001b[39m\u001b[32mIn[7]\u001b[39m\u001b[32m, line 1\u001b[39m\n\u001b[32m----> \u001b[39m\u001b[32m1\u001b[39m \u001b[38;5;28mtype\u001b[39m(ali)\n",
      "\u001b[31mNameError\u001b[39m: name 'ali' is not defined"
     ]
    }
   ],
   "source": [
    "type(ali)"
   ]
  },
  {
   "cell_type": "code",
   "execution_count": 8,
   "id": "03ac897c-5265-4bff-a8dd-989b3d669d45",
   "metadata": {},
   "outputs": [
    {
     "data": {
      "text/plain": [
       "str"
      ]
     },
     "execution_count": 8,
     "metadata": {},
     "output_type": "execute_result"
    }
   ],
   "source": [
    "isim = \"ahmet\"\n",
    "type(isim)"
   ]
  },
  {
   "cell_type": "code",
   "execution_count": 9,
   "id": "31035996-454e-4436-800d-9951eb221467",
   "metadata": {},
   "outputs": [
    {
     "data": {
      "text/plain": [
       "'hello world'"
      ]
     },
     "execution_count": 9,
     "metadata": {},
     "output_type": "execute_result"
    }
   ],
   "source": [
    "\"hello world\""
   ]
  },
  {
   "cell_type": "code",
   "execution_count": 10,
   "id": "24ac11e7-0f90-4962-8297-4f201cff84dd",
   "metadata": {},
   "outputs": [
    {
     "ename": "NameError",
     "evalue": "name 'hello' is not defined",
     "output_type": "error",
     "traceback": [
      "\u001b[31m---------------------------------------------------------------------------\u001b[39m",
      "\u001b[31mNameError\u001b[39m                                 Traceback (most recent call last)",
      "\u001b[36mCell\u001b[39m\u001b[36m \u001b[39m\u001b[32mIn[10]\u001b[39m\u001b[32m, line 1\u001b[39m\n\u001b[32m----> \u001b[39m\u001b[32m1\u001b[39m \u001b[38;5;28mprint\u001b[39m(hello)\n",
      "\u001b[31mNameError\u001b[39m: name 'hello' is not defined"
     ]
    }
   ],
   "source": [
    "print(hello)"
   ]
  },
  {
   "cell_type": "code",
   "execution_count": 11,
   "id": "ee35c0a3-801d-4f42-917a-7053c7b4e7dc",
   "metadata": {},
   "outputs": [
    {
     "name": "stdout",
     "output_type": "stream",
     "text": [
      "hello\n"
     ]
    }
   ],
   "source": [
    "print(\"hello\")"
   ]
  },
  {
   "cell_type": "code",
   "execution_count": 12,
   "id": "62065a6f-c17d-46e9-8a5b-af757fa82332",
   "metadata": {},
   "outputs": [
    {
     "data": {
      "text/plain": [
       "'Salih'"
      ]
     },
     "execution_count": 12,
     "metadata": {},
     "output_type": "execute_result"
    }
   ],
   "source": [
    "name = \"salih\"\n",
    "name.capitalize()"
   ]
  },
  {
   "cell_type": "code",
   "execution_count": 13,
   "id": "b064d66a-7868-4f5c-bc2f-2fef62abc602",
   "metadata": {},
   "outputs": [],
   "source": [
    "#() kullanıldığında fonksiyon çalıştırılır"
   ]
  },
  {
   "cell_type": "code",
   "execution_count": 14,
   "id": "9547f19d-e0ef-467c-b156-78ed62c00973",
   "metadata": {},
   "outputs": [
    {
     "name": "stdout",
     "output_type": "stream",
     "text": [
      "r\n"
     ]
    }
   ],
   "source": [
    "string = \"supermarket\"\n",
    "print(string[4])"
   ]
  },
  {
   "cell_type": "code",
   "execution_count": 15,
   "id": "fa6cb5c0-6277-4df9-b119-b60dd0013685",
   "metadata": {},
   "outputs": [
    {
     "data": {
      "text/plain": [
       "11"
      ]
     },
     "execution_count": 15,
     "metadata": {},
     "output_type": "execute_result"
    }
   ],
   "source": [
    "len(string)"
   ]
  },
  {
   "cell_type": "code",
   "execution_count": 16,
   "id": "5d2d0cb3-ba60-4f33-b8fc-7bf7aee8cec7",
   "metadata": {},
   "outputs": [
    {
     "data": {
      "text/plain": [
       "'t'"
      ]
     },
     "execution_count": 16,
     "metadata": {},
     "output_type": "execute_result"
    }
   ],
   "source": [
    "string[len(string)-1]"
   ]
  },
  {
   "cell_type": "code",
   "execution_count": 17,
   "id": "7f11f989-9302-4856-9304-32aeb9cb1e4d",
   "metadata": {},
   "outputs": [
    {
     "data": {
      "text/plain": [
       "'supermarketsupermarketsupermarketsupermarket'"
      ]
     },
     "execution_count": 17,
     "metadata": {},
     "output_type": "execute_result"
    }
   ],
   "source": [
    "string * 4"
   ]
  },
  {
   "cell_type": "code",
   "execution_count": 18,
   "id": "8b9a16ab-dbbb-4ef6-a437-0dc04c2bc9e7",
   "metadata": {},
   "outputs": [
    {
     "data": {
      "text/plain": [
       "'FN5'"
      ]
     },
     "execution_count": 18,
     "metadata": {},
     "output_type": "execute_result"
    }
   ],
   "source": [
    "barcode = \"AJHDFJNG5645876765\"\n",
    "#slicing, starting index, stopping index, stepping size\n",
    "#slice: barcode[stating index:stopping index:stepping size]\n",
    "barcode[4:9:2]"
   ]
  },
  {
   "cell_type": "code",
   "execution_count": 19,
   "id": "b2054d84-020b-4bb7-bf8a-ab203f1c66f3",
   "metadata": {},
   "outputs": [
    {
     "data": {
      "text/plain": [
       "'J55'"
      ]
     },
     "execution_count": 19,
     "metadata": {},
     "output_type": "execute_result"
    }
   ],
   "source": [
    "barcode[5::6]"
   ]
  },
  {
   "cell_type": "code",
   "execution_count": 20,
   "id": "421cdec4-08c0-4517-a5f9-8bc68d1ce0ff",
   "metadata": {},
   "outputs": [
    {
     "name": "stdout",
     "output_type": "stream",
     "text": [
      "Help on built-in function index:\n",
      "\n",
      "index(sub[, start[, end]], /) method of builtins.str instance\n",
      "    Return the lowest index in S where substring sub is found, such that sub is contained within S[start:end].\n",
      "\n",
      "    Optional arguments start and end are interpreted as in slice notation.\n",
      "    Raises ValueError when the substring is not found.\n",
      "\n"
     ]
    }
   ],
   "source": [
    "name = \"salih acar\"\n",
    "help(name.index)"
   ]
  },
  {
   "cell_type": "code",
   "execution_count": 23,
   "id": "238c9346-57b2-4a2f-a2b4-78e7da3eb8d5",
   "metadata": {
    "scrolled": true
   },
   "outputs": [
    {
     "data": {
      "text/plain": [
       "['salih']"
      ]
     },
     "execution_count": 23,
     "metadata": {},
     "output_type": "execute_result"
    }
   ],
   "source": [
    "name.index(\"l\")\n",
    "name.split()"
   ]
  },
  {
   "cell_type": "code",
   "execution_count": 24,
   "id": "e9e5135e-61f7-41c2-a7f4-ac13284ec1ee",
   "metadata": {},
   "outputs": [
    {
     "data": {
      "text/plain": [
       "['salih', 'acar']"
      ]
     },
     "execution_count": 24,
     "metadata": {},
     "output_type": "execute_result"
    }
   ],
   "source": [
    "name = \"salih acar\"\n",
    "name.split()"
   ]
  },
  {
   "cell_type": "code",
   "execution_count": 25,
   "id": "fbd4703b-a5d0-4417-9e3b-2613e12cd3aa",
   "metadata": {},
   "outputs": [
    {
     "data": {
      "text/plain": [
       "list"
      ]
     },
     "execution_count": 25,
     "metadata": {},
     "output_type": "execute_result"
    }
   ],
   "source": [
    "type(name.split())"
   ]
  },
  {
   "cell_type": "code",
   "execution_count": null,
   "id": "eac94ca5-c59b-4921-a4e4-50482e8551da",
   "metadata": {},
   "outputs": [],
   "source": []
  }
 ],
 "metadata": {
  "kernelspec": {
   "display_name": "Python 3 (ipykernel)",
   "language": "python",
   "name": "python3"
  },
  "language_info": {
   "codemirror_mode": {
    "name": "ipython",
    "version": 3
   },
   "file_extension": ".py",
   "mimetype": "text/x-python",
   "name": "python",
   "nbconvert_exporter": "python",
   "pygments_lexer": "ipython3",
   "version": "3.13.5"
  }
 },
 "nbformat": 4,
 "nbformat_minor": 5
}
