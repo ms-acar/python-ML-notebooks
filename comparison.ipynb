{
 "cells": [
  {
   "cell_type": "code",
   "execution_count": 3,
   "id": "9e6595a3-21b2-49b0-b6f8-029c70c693a4",
   "metadata": {},
   "outputs": [
    {
     "data": {
      "text/plain": [
       "False"
      ]
     },
     "execution_count": 3,
     "metadata": {},
     "output_type": "execute_result"
    }
   ],
   "source": [
    "a = 4\n",
    "b = 6\n",
    "a > b"
   ]
  },
  {
   "cell_type": "code",
   "execution_count": 4,
   "id": "1beb84af-3e74-46dd-93b3-2e5ad5df5890",
   "metadata": {},
   "outputs": [
    {
     "data": {
      "text/plain": [
       "False"
      ]
     },
     "execution_count": 4,
     "metadata": {},
     "output_type": "execute_result"
    }
   ],
   "source": [
    "a == b"
   ]
  },
  {
   "cell_type": "code",
   "execution_count": 6,
   "id": "9c97fe13-e257-466f-9384-e4269ddef16f",
   "metadata": {},
   "outputs": [
    {
     "data": {
      "text/plain": [
       "True"
      ]
     },
     "execution_count": 6,
     "metadata": {},
     "output_type": "execute_result"
    }
   ],
   "source": [
    "3>2 and 5<6"
   ]
  },
  {
   "cell_type": "code",
   "execution_count": 7,
   "id": "59321145-68a4-4dc9-b4d9-09d6b67a167d",
   "metadata": {},
   "outputs": [
    {
     "data": {
      "text/plain": [
       "True"
      ]
     },
     "execution_count": 7,
     "metadata": {},
     "output_type": "execute_result"
    }
   ],
   "source": [
    "3>2 or 5>6"
   ]
  },
  {
   "cell_type": "code",
   "execution_count": 8,
   "id": "2421f859-b838-440a-9344-55d9e9165c57",
   "metadata": {},
   "outputs": [
    {
     "data": {
      "text/plain": [
       "False"
      ]
     },
     "execution_count": 8,
     "metadata": {},
     "output_type": "execute_result"
    }
   ],
   "source": [
    "not 2 == 2"
   ]
  },
  {
   "cell_type": "code",
   "execution_count": 9,
   "id": "fe73aca2-92e7-40fb-b797-e7ae23889d22",
   "metadata": {},
   "outputs": [
    {
     "data": {
      "text/plain": [
       "True"
      ]
     },
     "execution_count": 9,
     "metadata": {},
     "output_type": "execute_result"
    }
   ],
   "source": [
    "5 in [5,6,7]"
   ]
  },
  {
   "cell_type": "code",
   "execution_count": 10,
   "id": "7db636b4-8df8-4b61-9b18-93323ae9776e",
   "metadata": {},
   "outputs": [
    {
     "data": {
      "text/plain": [
       "True"
      ]
     },
     "execution_count": 10,
     "metadata": {},
     "output_type": "execute_result"
    }
   ],
   "source": [
    "5 not in [2,6,7]"
   ]
  },
  {
   "cell_type": "code",
   "execution_count": 11,
   "id": "30214194-bf68-4470-b5bb-74623caaab9b",
   "metadata": {},
   "outputs": [
    {
     "data": {
      "text/plain": [
       "True"
      ]
     },
     "execution_count": 11,
     "metadata": {},
     "output_type": "execute_result"
    }
   ],
   "source": [
    "myDict = {\"a\":10,\"b\":20}\n",
    "10 in myDict.values()"
   ]
  },
  {
   "cell_type": "code",
   "execution_count": 12,
   "id": "3a230045-081c-43d8-b74d-f2b2b073098b",
   "metadata": {},
   "outputs": [
    {
     "data": {
      "text/plain": [
       "True"
      ]
     },
     "execution_count": 12,
     "metadata": {},
     "output_type": "execute_result"
    }
   ],
   "source": [
    "name = \"salih\"\n",
    "name == \"salih\""
   ]
  },
  {
   "cell_type": "code",
   "execution_count": 22,
   "id": "edb4b0c2-08b3-4947-bd91-e8e8f8e1dbf4",
   "metadata": {},
   "outputs": [
    {
     "name": "stdin",
     "output_type": "stream",
     "text": [
      " salih\n"
     ]
    },
    {
     "name": "stdout",
     "output_type": "stream",
     "text": [
      "isim : salih\n"
     ]
    }
   ],
   "source": [
    "if input() == \"salih\":\n",
    "    print(\"isim : salih\")\n",
    "else:\n",
    "    print(input())"
   ]
  },
  {
   "cell_type": "code",
   "execution_count": 25,
   "id": "3afe6792-2b96-479d-9313-164b57e9e563",
   "metadata": {},
   "outputs": [
    {
     "name": "stdin",
     "output_type": "stream",
     "text": [
      "ürün giriniz. ayran\n"
     ]
    },
    {
     "name": "stdout",
     "output_type": "stream",
     "text": [
      "ürün: ayran\n"
     ]
    }
   ],
   "source": [
    "urun = input(\"ürün giriniz.\")\n",
    "if urun == \"peynir\":\n",
    "    print(\"ürün: peynir\")\n",
    "elif urun == \"süt\":\n",
    "    print(\"ürün: süt\")\n",
    "elif urun == \"tereyağı\":\n",
    "    print(\"ürün: tereyağı\")\n",
    "elif urun == \"ayran\":\n",
    "    print(\"ürün: ayran\")\n",
    "else:\n",
    "    print(\"ürün bulunamadı\")"
   ]
  },
  {
   "cell_type": "code",
   "execution_count": 28,
   "id": "e65b45c5-03af-4d3e-9cf4-1302d5d73404",
   "metadata": {},
   "outputs": [
    {
     "name": "stdin",
     "output_type": "stream",
     "text": [
      "yaşınızı giriniz 45\n"
     ]
    },
    {
     "name": "stdout",
     "output_type": "stream",
     "text": [
      "yas > 40\n"
     ]
    }
   ],
   "source": [
    "yas = input(\"yaşınızı giriniz\")\n",
    "yas = int(yas)\n",
    "if yas <= 18:\n",
    "    print (\"yaş<=18\")\n",
    "elif yas > 18 and yas <= 30:\n",
    "    print(\"18 - yas - 30\")\n",
    "elif yas > 30 and yas <= 40:\n",
    "    print(\"30 - yas - 40\")\n",
    "else:\n",
    "    print(\"yas > 40\")"
   ]
  },
  {
   "cell_type": "code",
   "execution_count": 33,
   "id": "7114d60d-7c73-4720-b979-ecabfc763151",
   "metadata": {},
   "outputs": [
    {
     "name": "stdin",
     "output_type": "stream",
     "text": [
      "marka giriniz: asus\n"
     ]
    },
    {
     "name": "stdout",
     "output_type": "stream",
     "text": [
      "fiyat: 20000\n"
     ]
    }
   ],
   "source": [
    "laptop = input(\"marka giriniz:\")\n",
    "laptopDict = {\"acer\":14000,\"asus\":20000,\"msi\":25000,\"lenovo\":12000}\n",
    "if laptop in laptopDict:\n",
    "    print(\"fiyat:\",laptopDict[laptop])\n",
    "else:\n",
    "    print(\"marka mevcut değildir\")"
   ]
  }
 ],
 "metadata": {
  "kernelspec": {
   "display_name": "Python 3 (ipykernel)",
   "language": "python",
   "name": "python3"
  },
  "language_info": {
   "codemirror_mode": {
    "name": "ipython",
    "version": 3
   },
   "file_extension": ".py",
   "mimetype": "text/x-python",
   "name": "python",
   "nbconvert_exporter": "python",
   "pygments_lexer": "ipython3",
   "version": "3.13.5"
  }
 },
 "nbformat": 4,
 "nbformat_minor": 5
}
