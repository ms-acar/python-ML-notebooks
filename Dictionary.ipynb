{
 "cells": [
  {
   "cell_type": "code",
   "execution_count": 1,
   "id": "b8fafe36-0289-434f-aa1e-8c5ee61fed56",
   "metadata": {},
   "outputs": [
    {
     "data": {
      "text/plain": [
       "dict"
      ]
     },
     "execution_count": 1,
     "metadata": {},
     "output_type": "execute_result"
    }
   ],
   "source": [
    "fitnessDictionary = {\"apple\":100,\"banana\":150}\n",
    "type(fitnessDictionary)"
   ]
  },
  {
   "cell_type": "code",
   "execution_count": 2,
   "id": "f6d7fdb2-c9d8-4a7c-b350-28246d936fd5",
   "metadata": {},
   "outputs": [
    {
     "data": {
      "text/plain": [
       "dict_keys(['apple', 'banana'])"
      ]
     },
     "execution_count": 2,
     "metadata": {},
     "output_type": "execute_result"
    }
   ],
   "source": [
    "fitnessDictionary.keys()"
   ]
  },
  {
   "cell_type": "code",
   "execution_count": 3,
   "id": "67b5ed13-b2f4-4096-a108-45e7a1a4d86c",
   "metadata": {},
   "outputs": [
    {
     "data": {
      "text/plain": [
       "dict_values([100, 150])"
      ]
     },
     "execution_count": 3,
     "metadata": {},
     "output_type": "execute_result"
    }
   ],
   "source": [
    "fitnessDictionary.values()"
   ]
  },
  {
   "cell_type": "code",
   "execution_count": 4,
   "id": "1551a930-7a44-4f87-a628-ceb59e7c461f",
   "metadata": {},
   "outputs": [
    {
     "data": {
      "text/plain": [
       "dict_values"
      ]
     },
     "execution_count": 4,
     "metadata": {},
     "output_type": "execute_result"
    }
   ],
   "source": [
    "type(fitnessDictionary.values())"
   ]
  },
  {
   "cell_type": "code",
   "execution_count": 6,
   "id": "7919a4f9-25f1-464d-b694-1593e9201cc7",
   "metadata": {},
   "outputs": [
    {
     "data": {
      "text/plain": [
       "[100, 150]"
      ]
     },
     "execution_count": 6,
     "metadata": {},
     "output_type": "execute_result"
    }
   ],
   "source": [
    "list(fitnessDictionary.values())"
   ]
  },
  {
   "cell_type": "code",
   "execution_count": 7,
   "id": "a36d15a8-d5fa-42ea-a978-34106a023e6a",
   "metadata": {},
   "outputs": [
    {
     "data": {
      "text/plain": [
       "{'apple': 100, 'banana': 200}"
      ]
     },
     "execution_count": 7,
     "metadata": {},
     "output_type": "execute_result"
    }
   ],
   "source": [
    "fitnessDictionary[\"banana\"] = 200\n",
    "fitnessDictionary"
   ]
  },
  {
   "cell_type": "code",
   "execution_count": 8,
   "id": "56587685-52a3-487a-85d9-7f328f300add",
   "metadata": {},
   "outputs": [],
   "source": [
    "fitnessDictionary[\"orange\"] = 300"
   ]
  },
  {
   "cell_type": "code",
   "execution_count": 9,
   "id": "7a6e3fa0-148c-42e0-b117-5e8d152f62e6",
   "metadata": {},
   "outputs": [
    {
     "data": {
      "text/plain": [
       "{'apple': 100, 'banana': 200, 'orange': 300}"
      ]
     },
     "execution_count": 9,
     "metadata": {},
     "output_type": "execute_result"
    }
   ],
   "source": [
    "fitnessDictionary"
   ]
  },
  {
   "cell_type": "code",
   "execution_count": 11,
   "id": "5b200780-31a3-44bf-85cf-2b9bee8f581c",
   "metadata": {},
   "outputs": [
    {
     "data": {
      "text/plain": [
       "300"
      ]
     },
     "execution_count": 11,
     "metadata": {},
     "output_type": "execute_result"
    }
   ],
   "source": [
    "fitnessDictionary.get(\"orange\") #her zaman key yazılır value çağrılır tersi çalışmaz"
   ]
  },
  {
   "cell_type": "code",
   "execution_count": 13,
   "id": "c2d2ca24-8eed-4fdb-ae37-4eedcc193f57",
   "metadata": {},
   "outputs": [
    {
     "data": {
      "text/plain": [
       "20"
      ]
     },
     "execution_count": 13,
     "metadata": {},
     "output_type": "execute_result"
    }
   ],
   "source": [
    "mixedDictionary = {\"ürün1\":100,\"ürün2\":200,\"ürünler\":[10,20,30]}\n",
    "mixedDictionary[\"ürünler\"]\n",
    "mixedDictionary[\"ürünler\"][1]"
   ]
  },
  {
   "cell_type": "code",
   "execution_count": 16,
   "id": "2ff3d258-1654-4b43-90a5-dd98c5200876",
   "metadata": {},
   "outputs": [
    {
     "data": {
      "text/plain": [
       "100"
      ]
     },
     "execution_count": 16,
     "metadata": {},
     "output_type": "execute_result"
    }
   ],
   "source": [
    "mixedDictionary2 = {\"ürün1\":100,\"ürün2\":200,\"ürünler\":{\"ürünA\":100,\"ürünB\":200}}\n",
    "mixedDictionary2[\"ürünler\"][\"ürünA\"]"
   ]
  },
  {
   "cell_type": "code",
   "execution_count": null,
   "id": "aabcbec2-ea13-4f6c-8c4d-2af84344e804",
   "metadata": {},
   "outputs": [],
   "source": []
  }
 ],
 "metadata": {
  "kernelspec": {
   "display_name": "Python 3 (ipykernel)",
   "language": "python",
   "name": "python3"
  },
  "language_info": {
   "codemirror_mode": {
    "name": "ipython",
    "version": 3
   },
   "file_extension": ".py",
   "mimetype": "text/x-python",
   "name": "python",
   "nbconvert_exporter": "python",
   "pygments_lexer": "ipython3",
   "version": "3.13.5"
  }
 },
 "nbformat": 4,
 "nbformat_minor": 5
}
